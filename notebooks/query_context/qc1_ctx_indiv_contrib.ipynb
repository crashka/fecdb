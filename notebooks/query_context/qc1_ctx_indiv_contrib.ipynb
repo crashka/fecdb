{
 "cells": [
  {
   "cell_type": "markdown",
   "metadata": {},
   "source": [
    "# Query by Individual Contribution Context #\n",
    "\n",
    "## Overview ##\n",
    "\n",
    "Query based on `ctx_indiv_contrib` view"
   ]
  },
  {
   "cell_type": "markdown",
   "metadata": {},
   "source": [
    "## Notebook Setup ##\n",
    "\n",
    "* Configure database connect information and options\n",
    "* Clear potentially interfering context (PostgreSQL doesn't let you replace a view definition with conflicting column names)\n",
    "* Set styling for notebook"
   ]
  },
  {
   "cell_type": "code",
   "execution_count": 1,
   "metadata": {},
   "outputs": [
    {
     "data": {
      "text/plain": [
       "'Connected: crash@fecdb'"
      ]
     },
     "execution_count": 1,
     "metadata": {},
     "output_type": "execute_result"
    }
   ],
   "source": [
    "sqlconnect = \"postgresql+psycopg2://crash@localhost/fecdb\"\n",
    "\n",
    "%load_ext sql\n",
    "%config SqlMagic.autopandas=True\n",
    "%config InteractiveShell.ast_node_interactivity='last_expr_or_assign'\n",
    "%sql $sqlconnect"
   ]
  },
  {
   "cell_type": "code",
   "execution_count": 2,
   "metadata": {},
   "outputs": [
    {
     "data": {
      "text/html": [
       "<style>\n",
       "  tr, th, td {\n",
       "    text-align: left !important;\n",
       "  }\n",
       "</style>\n"
      ],
      "text/plain": [
       "<IPython.core.display.HTML object>"
      ]
     },
     "metadata": {},
     "output_type": "display_data"
    }
   ],
   "source": [
    "%%html\n",
    "<style>\n",
    "  tr, th, td {\n",
    "    text-align: left !important;\n",
    "  }\n",
    "</style>"
   ]
  },
  {
   "cell_type": "markdown",
   "metadata": {},
   "source": [
    "## Validate Context ##"
   ]
  },
  {
   "cell_type": "code",
   "execution_count": 3,
   "metadata": {},
   "outputs": [
    {
     "name": "stdout",
     "output_type": "stream",
     "text": [
      " * postgresql+psycopg2://crash@localhost/fecdb\n",
      "1 rows affected.\n"
     ]
    },
    {
     "data": {
      "text/html": [
       "<div>\n",
       "<style scoped>\n",
       "    .dataframe tbody tr th:only-of-type {\n",
       "        vertical-align: middle;\n",
       "    }\n",
       "\n",
       "    .dataframe tbody tr th {\n",
       "        vertical-align: top;\n",
       "    }\n",
       "\n",
       "    .dataframe thead th {\n",
       "        text-align: right;\n",
       "    }\n",
       "</style>\n",
       "<table border=\"1\" class=\"dataframe\">\n",
       "  <thead>\n",
       "    <tr style=\"text-align: right;\">\n",
       "      <th></th>\n",
       "      <th>count</th>\n",
       "    </tr>\n",
       "  </thead>\n",
       "  <tbody>\n",
       "    <tr>\n",
       "      <td>0</td>\n",
       "      <td>20567</td>\n",
       "    </tr>\n",
       "  </tbody>\n",
       "</table>\n",
       "</div>"
      ],
      "text/plain": [
       "   count\n",
       "0  20567"
      ]
     },
     "execution_count": 3,
     "metadata": {},
     "output_type": "execute_result"
    }
   ],
   "source": [
    "%%sql\n",
    "select count(*)\n",
    "  from ctx_indiv_contrib"
   ]
  },
  {
   "cell_type": "markdown",
   "metadata": {},
   "source": [
    "## Query Based on Context ##"
   ]
  },
  {
   "cell_type": "markdown",
   "metadata": {},
   "source": [
    "### Query using `ctx_indiv_contrib` ###"
   ]
  },
  {
   "cell_type": "code",
   "execution_count": 4,
   "metadata": {},
   "outputs": [
    {
     "name": "stdout",
     "output_type": "stream",
     "text": [
      " * postgresql+psycopg2://crash@localhost/fecdb\n",
      "11 rows affected.\n"
     ]
    },
    {
     "data": {
      "text/html": [
       "<div>\n",
       "<style scoped>\n",
       "    .dataframe tbody tr th:only-of-type {\n",
       "        vertical-align: middle;\n",
       "    }\n",
       "\n",
       "    .dataframe tbody tr th {\n",
       "        vertical-align: top;\n",
       "    }\n",
       "\n",
       "    .dataframe thead th {\n",
       "        text-align: right;\n",
       "    }\n",
       "</style>\n",
       "<table border=\"1\" class=\"dataframe\">\n",
       "  <thead>\n",
       "    <tr style=\"text-align: right;\">\n",
       "      <th></th>\n",
       "      <th>elect_cycle</th>\n",
       "      <th>cycle_contribs</th>\n",
       "      <th>cycle_amount</th>\n",
       "      <th>avg_amount</th>\n",
       "      <th>min_amount</th>\n",
       "      <th>max_amount</th>\n",
       "    </tr>\n",
       "  </thead>\n",
       "  <tbody>\n",
       "    <tr>\n",
       "      <td>0</td>\n",
       "      <td>2000</td>\n",
       "      <td>646</td>\n",
       "      <td>6882505.00</td>\n",
       "      <td>10654.03</td>\n",
       "      <td>-245000.00</td>\n",
       "      <td>317068.00</td>\n",
       "    </tr>\n",
       "    <tr>\n",
       "      <td>1</td>\n",
       "      <td>2002</td>\n",
       "      <td>708</td>\n",
       "      <td>32106740.00</td>\n",
       "      <td>45348.50</td>\n",
       "      <td>-1000.00</td>\n",
       "      <td>7000000.00</td>\n",
       "    </tr>\n",
       "    <tr>\n",
       "      <td>2</td>\n",
       "      <td>2004</td>\n",
       "      <td>799</td>\n",
       "      <td>28080591.00</td>\n",
       "      <td>35144.67</td>\n",
       "      <td>-2000.00</td>\n",
       "      <td>3000000.00</td>\n",
       "    </tr>\n",
       "    <tr>\n",
       "      <td>3</td>\n",
       "      <td>2006</td>\n",
       "      <td>922</td>\n",
       "      <td>33215996.00</td>\n",
       "      <td>36026.03</td>\n",
       "      <td>-1000.00</td>\n",
       "      <td>2500000.00</td>\n",
       "    </tr>\n",
       "    <tr>\n",
       "      <td>4</td>\n",
       "      <td>2008</td>\n",
       "      <td>1015</td>\n",
       "      <td>15334856.00</td>\n",
       "      <td>15108.23</td>\n",
       "      <td>-5000.00</td>\n",
       "      <td>2878872.00</td>\n",
       "    </tr>\n",
       "    <tr>\n",
       "      <td>5</td>\n",
       "      <td>2010</td>\n",
       "      <td>1323</td>\n",
       "      <td>105298333.00</td>\n",
       "      <td>79590.58</td>\n",
       "      <td>-100000.00</td>\n",
       "      <td>6000000.00</td>\n",
       "    </tr>\n",
       "    <tr>\n",
       "      <td>6</td>\n",
       "      <td>2012</td>\n",
       "      <td>1529</td>\n",
       "      <td>291771883.00</td>\n",
       "      <td>190825.30</td>\n",
       "      <td>-750000.00</td>\n",
       "      <td>10000000.00</td>\n",
       "    </tr>\n",
       "    <tr>\n",
       "      <td>7</td>\n",
       "      <td>2014</td>\n",
       "      <td>2341</td>\n",
       "      <td>201218838.00</td>\n",
       "      <td>85954.22</td>\n",
       "      <td>-10200.00</td>\n",
       "      <td>16000000.00</td>\n",
       "    </tr>\n",
       "    <tr>\n",
       "      <td>8</td>\n",
       "      <td>2016</td>\n",
       "      <td>4143</td>\n",
       "      <td>722705756.00</td>\n",
       "      <td>174440.20</td>\n",
       "      <td>-226800.00</td>\n",
       "      <td>11000000.00</td>\n",
       "    </tr>\n",
       "    <tr>\n",
       "      <td>9</td>\n",
       "      <td>2018</td>\n",
       "      <td>6033</td>\n",
       "      <td>665768670.00</td>\n",
       "      <td>110354.50</td>\n",
       "      <td>-54000.00</td>\n",
       "      <td>20000000.00</td>\n",
       "    </tr>\n",
       "    <tr>\n",
       "      <td>10</td>\n",
       "      <td>2020</td>\n",
       "      <td>1108</td>\n",
       "      <td>72061769.00</td>\n",
       "      <td>65037.70</td>\n",
       "      <td>-5400.00</td>\n",
       "      <td>5000000.00</td>\n",
       "    </tr>\n",
       "  </tbody>\n",
       "</table>\n",
       "</div>"
      ],
      "text/plain": [
       "    elect_cycle  cycle_contribs  cycle_amount avg_amount  min_amount  \\\n",
       "0          2000             646    6882505.00   10654.03  -245000.00   \n",
       "1          2002             708   32106740.00   45348.50    -1000.00   \n",
       "2          2004             799   28080591.00   35144.67    -2000.00   \n",
       "3          2006             922   33215996.00   36026.03    -1000.00   \n",
       "4          2008            1015   15334856.00   15108.23    -5000.00   \n",
       "5          2010            1323  105298333.00   79590.58  -100000.00   \n",
       "6          2012            1529  291771883.00  190825.30  -750000.00   \n",
       "7          2014            2341  201218838.00   85954.22   -10200.00   \n",
       "8          2016            4143  722705756.00  174440.20  -226800.00   \n",
       "9          2018            6033  665768670.00  110354.50   -54000.00   \n",
       "10         2020            1108   72061769.00   65037.70    -5400.00   \n",
       "\n",
       "     max_amount  \n",
       "0     317068.00  \n",
       "1    7000000.00  \n",
       "2    3000000.00  \n",
       "3    2500000.00  \n",
       "4    2878872.00  \n",
       "5    6000000.00  \n",
       "6   10000000.00  \n",
       "7   16000000.00  \n",
       "8   11000000.00  \n",
       "9   20000000.00  \n",
       "10   5000000.00  "
      ]
     },
     "execution_count": 4,
     "metadata": {},
     "output_type": "execute_result"
    }
   ],
   "source": [
    "%%sql\n",
    "select icx.elect_cycle,\n",
    "       count(*) cycle_contribs,\n",
    "       sum(icx.transaction_amt) cycle_amount,\n",
    "       round(avg(icx.transaction_amt), 2) avg_amount,\n",
    "       min(icx.transaction_amt) min_amount,\n",
    "       max(icx.transaction_amt) max_amount\n",
    "  from ctx_indiv_contrib icx\n",
    " group by 1\n",
    " order by 1"
   ]
  }
 ],
 "metadata": {
  "kernelspec": {
   "display_name": "Python 3",
   "language": "python",
   "name": "python3"
  },
  "language_info": {
   "codemirror_mode": {
    "name": "ipython",
    "version": 3
   },
   "file_extension": ".py",
   "mimetype": "text/x-python",
   "name": "python",
   "nbconvert_exporter": "python",
   "pygments_lexer": "ipython3",
   "version": "3.6.8"
  }
 },
 "nbformat": 4,
 "nbformat_minor": 2
}
