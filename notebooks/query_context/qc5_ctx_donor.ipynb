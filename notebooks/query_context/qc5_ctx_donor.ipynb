{
 "cells": [
  {
   "cell_type": "markdown",
   "metadata": {},
   "source": [
    "# Query by Donor Context #\n",
    "\n",
    "## Overview ##\n",
    "\n",
    "Query based on `ctx_donor` view"
   ]
  },
  {
   "cell_type": "markdown",
   "metadata": {},
   "source": [
    "## Notebook Setup ##\n",
    "\n",
    "### Configure database connect info/options ###\n",
    "\n",
    "Note: database connect string can be specified on the initial `%sql` command:\n",
    "\n",
    "```python\n",
    "database_url = \"postgresql+psycopg2://user@localhost/fecdb\"\n",
    "%sql $database_url\n",
    "\n",
    "```\n",
    "\n",
    "Or, connect string is taken from DATABASE_URL environment variable (if not specified for `%sql`):\n",
    "\n",
    "```python\n",
    "%sql\n",
    "\n",
    "```"
   ]
  },
  {
   "cell_type": "code",
   "execution_count": 1,
   "metadata": {},
   "outputs": [
    {
     "data": {
      "text/plain": [
       "'Connected: crash@fecdb'"
      ]
     },
     "execution_count": 1,
     "metadata": {},
     "output_type": "execute_result"
    }
   ],
   "source": [
    "%load_ext sql\n",
    "%config SqlMagic.autopandas=True\n",
    "%config InteractiveShell.ast_node_interactivity='last_expr_or_assign'\n",
    "# connect string taken from DATABASE_URL environment variable\n",
    "%sql"
   ]
  },
  {
   "cell_type": "markdown",
   "metadata": {},
   "source": [
    "### Set styling ###"
   ]
  },
  {
   "cell_type": "code",
   "execution_count": 2,
   "metadata": {},
   "outputs": [
    {
     "data": {
      "text/html": [
       "<style>\n",
       "  tr, th, td {\n",
       "    text-align: left !important;\n",
       "  }\n",
       "</style>\n"
      ],
      "text/plain": [
       "<IPython.core.display.HTML object>"
      ]
     },
     "metadata": {},
     "output_type": "display_data"
    }
   ],
   "source": [
    "%%html\n",
    "<style>\n",
    "  tr, th, td {\n",
    "    text-align: left !important;\n",
    "  }\n",
    "</style>"
   ]
  },
  {
   "cell_type": "markdown",
   "metadata": {},
   "source": [
    "### Import plotting modules ###"
   ]
  },
  {
   "cell_type": "code",
   "execution_count": 3,
   "metadata": {
    "scrolled": true
   },
   "outputs": [],
   "source": [
    "%matplotlib inline\n",
    "import matplotlib.pyplot as plt\n",
    "import seaborn as sns"
   ]
  },
  {
   "cell_type": "markdown",
   "metadata": {},
   "source": [
    "## Validate Context ##"
   ]
  },
  {
   "cell_type": "code",
   "execution_count": 4,
   "metadata": {},
   "outputs": [
    {
     "name": "stdout",
     "output_type": "stream",
     "text": [
      " * postgresql+psycopg2://crash@localhost/fecdb\n",
      "1 rows affected.\n"
     ]
    },
    {
     "data": {
      "text/html": [
       "<div>\n",
       "<style scoped>\n",
       "    .dataframe tbody tr th:only-of-type {\n",
       "        vertical-align: middle;\n",
       "    }\n",
       "\n",
       "    .dataframe tbody tr th {\n",
       "        vertical-align: top;\n",
       "    }\n",
       "\n",
       "    .dataframe thead th {\n",
       "        text-align: right;\n",
       "    }\n",
       "</style>\n",
       "<table border=\"1\" class=\"dataframe\">\n",
       "  <thead>\n",
       "    <tr style=\"text-align: right;\">\n",
       "      <th></th>\n",
       "      <th>count</th>\n",
       "    </tr>\n",
       "  </thead>\n",
       "  <tbody>\n",
       "    <tr>\n",
       "      <td>0</td>\n",
       "      <td>63</td>\n",
       "    </tr>\n",
       "  </tbody>\n",
       "</table>\n",
       "</div>"
      ],
      "text/plain": [
       "   count\n",
       "0     63"
      ]
     },
     "execution_count": 4,
     "metadata": {},
     "output_type": "execute_result"
    }
   ],
   "source": [
    "%%sql\n",
    "select count(*)\n",
    "  from ctx_donor"
   ]
  },
  {
   "cell_type": "markdown",
   "metadata": {},
   "source": [
    "## Queries / Use Cases ##"
   ]
  },
  {
   "cell_type": "markdown",
   "metadata": {},
   "source": [
    "### Plot Election Cycle Giving Patterns ###\n",
    "\n",
    "#### Setup use case ####"
   ]
  },
  {
   "cell_type": "code",
   "execution_count": 5,
   "metadata": {},
   "outputs": [
    {
     "name": "stdout",
     "output_type": "stream",
     "text": [
      " * postgresql+psycopg2://crash@localhost/fecdb\n",
      "Done.\n",
      " * postgresql+psycopg2://crash@localhost/fecdb\n",
      "Done.\n"
     ]
    },
    {
     "data": {
      "text/html": [
       "<div>\n",
       "<style scoped>\n",
       "    .dataframe tbody tr th:only-of-type {\n",
       "        vertical-align: middle;\n",
       "    }\n",
       "\n",
       "    .dataframe tbody tr th {\n",
       "        vertical-align: top;\n",
       "    }\n",
       "\n",
       "    .dataframe thead th {\n",
       "        text-align: right;\n",
       "    }\n",
       "</style>\n",
       "<table border=\"1\" class=\"dataframe\">\n",
       "  <thead>\n",
       "    <tr style=\"text-align: right;\">\n",
       "      <th></th>\n",
       "    </tr>\n",
       "  </thead>\n",
       "  <tbody>\n",
       "  </tbody>\n",
       "</table>\n",
       "</div>"
      ],
      "text/plain": [
       "Empty DataFrame\n",
       "Columns: []\n",
       "Index: []"
      ]
     },
     "execution_count": 5,
     "metadata": {},
     "output_type": "execute_result"
    }
   ],
   "source": [
    "%sql drop materialized view if exists donor_ec_sum cascade\n",
    "%sql drop materialized view if exists donor_ec_contrib cascade"
   ]
  },
  {
   "cell_type": "markdown",
   "metadata": {},
   "source": [
    "This view rerepsents all of the contributions from the party/parties specified by `ctx_donor`; note that multiple contributions on a given day (if/when it happens) are lumped together as `contrib_dt`, to make the overall reporting simpler."
   ]
  },
  {
   "cell_type": "code",
   "execution_count": 6,
   "metadata": {
    "scrolled": true
   },
   "outputs": [
    {
     "name": "stdout",
     "output_type": "stream",
     "text": [
      " * postgresql+psycopg2://crash@localhost/fecdb\n",
      "4296 rows affected.\n"
     ]
    },
    {
     "data": {
      "text/html": [
       "<div>\n",
       "<style scoped>\n",
       "    .dataframe tbody tr th:only-of-type {\n",
       "        vertical-align: middle;\n",
       "    }\n",
       "\n",
       "    .dataframe tbody tr th {\n",
       "        vertical-align: top;\n",
       "    }\n",
       "\n",
       "    .dataframe thead th {\n",
       "        text-align: right;\n",
       "    }\n",
       "</style>\n",
       "<table border=\"1\" class=\"dataframe\">\n",
       "  <thead>\n",
       "    <tr style=\"text-align: right;\">\n",
       "      <th></th>\n",
       "    </tr>\n",
       "  </thead>\n",
       "  <tbody>\n",
       "  </tbody>\n",
       "</table>\n",
       "</div>"
      ],
      "text/plain": [
       "Empty DataFrame\n",
       "Columns: []\n",
       "Index: []"
      ]
     },
     "execution_count": 6,
     "metadata": {},
     "output_type": "execute_result"
    }
   ],
   "source": [
    "%%sql\n",
    "create materialized view donor_ec_contrib as\n",
    "select ic.elect_cycle                                           as elect_cycle,\n",
    "       ic.transaction_dt                                        as contrib_dt,\n",
    "       sum(ic.transaction_amt)                                  as contrib_amt,\n",
    "       count(*)                                                 as contribs,\n",
    "       count(distinct i.name)                                   as donors,\n",
    "       array_to_string(array_agg(distinct cmte.cmte_id), ', ')  as cmte_ids,\n",
    "       array_to_string(array_agg(distinct cmte.cmte_nm), ' | ') as cmte_nms\n",
    "  from ctx_donor dx\n",
    "  join indiv i on i.donor_indiv_id = dx.id\n",
    "  join indiv_contrib ic on ic.indiv_id = i.id\n",
    "  left join cmte\n",
    "       on cmte.cmte_id = ic.cmte_id\n",
    "       and cmte.elect_cycle = ic.elect_cycle\n",
    " group by 1, 2"
   ]
  },
  {
   "cell_type": "markdown",
   "metadata": {},
   "source": [
    "Aggregate (\"summarize\") the previous data by election cycle, showing the earliest and latest contributions for each cycle; note that `days_rel` represents days relative to the election date for the cycle (it goes without saying that negative is \"before\" the election date, and positive is \"after\")."
   ]
  },
  {
   "cell_type": "code",
   "execution_count": 7,
   "metadata": {},
   "outputs": [
    {
     "name": "stdout",
     "output_type": "stream",
     "text": [
      " * postgresql+psycopg2://crash@localhost/fecdb\n",
      "11 rows affected.\n"
     ]
    },
    {
     "data": {
      "text/html": [
       "<div>\n",
       "<style scoped>\n",
       "    .dataframe tbody tr th:only-of-type {\n",
       "        vertical-align: middle;\n",
       "    }\n",
       "\n",
       "    .dataframe tbody tr th {\n",
       "        vertical-align: top;\n",
       "    }\n",
       "\n",
       "    .dataframe thead th {\n",
       "        text-align: right;\n",
       "    }\n",
       "</style>\n",
       "<table border=\"1\" class=\"dataframe\">\n",
       "  <thead>\n",
       "    <tr style=\"text-align: right;\">\n",
       "      <th></th>\n",
       "    </tr>\n",
       "  </thead>\n",
       "  <tbody>\n",
       "  </tbody>\n",
       "</table>\n",
       "</div>"
      ],
      "text/plain": [
       "Empty DataFrame\n",
       "Columns: []\n",
       "Index: []"
      ]
     },
     "execution_count": 7,
     "metadata": {},
     "output_type": "execute_result"
    }
   ],
   "source": [
    "%%sql\n",
    "create materialized view donor_ec_sum as\n",
    "select ec.key                                    as key,\n",
    "       ec.election_day                           as election_day,\n",
    "       count(*)                                  as contrib_dates,\n",
    "       sum(bec.contrib_amt)                      as total_amt,\n",
    "       round(sum(bec.contrib_amt) / count(*), 2) as avg_amt,\n",
    "       min(bec.contrib_dt)                       as earliest,\n",
    "       max(bec.contrib_dt)                       as latest,\n",
    "       min(bec.contrib_dt) - ec.election_day     as erly_days_rel,\n",
    "       max(bec.contrib_dt) - ec.election_day     as late_days_rel\n",
    "  from donor_ec_contrib bec\n",
    "  join election_cycle ec on ec.key = bec.elect_cycle\n",
    " group by 1, 2"
   ]
  },
  {
   "cell_type": "markdown",
   "metadata": {},
   "source": [
    "Take a look at the summary just computed."
   ]
  },
  {
   "cell_type": "code",
   "execution_count": 8,
   "metadata": {},
   "outputs": [
    {
     "name": "stdout",
     "output_type": "stream",
     "text": [
      " * postgresql+psycopg2://crash@localhost/fecdb\n",
      "11 rows affected.\n"
     ]
    },
    {
     "data": {
      "text/html": [
       "<div>\n",
       "<style scoped>\n",
       "    .dataframe tbody tr th:only-of-type {\n",
       "        vertical-align: middle;\n",
       "    }\n",
       "\n",
       "    .dataframe tbody tr th {\n",
       "        vertical-align: top;\n",
       "    }\n",
       "\n",
       "    .dataframe thead th {\n",
       "        text-align: right;\n",
       "    }\n",
       "</style>\n",
       "<table border=\"1\" class=\"dataframe\">\n",
       "  <thead>\n",
       "    <tr style=\"text-align: right;\">\n",
       "      <th></th>\n",
       "      <th>key</th>\n",
       "      <th>election_day</th>\n",
       "      <th>contrib_dates</th>\n",
       "      <th>total_amt</th>\n",
       "      <th>avg_amt</th>\n",
       "      <th>earliest</th>\n",
       "      <th>latest</th>\n",
       "      <th>erly_days_rel</th>\n",
       "      <th>late_days_rel</th>\n",
       "    </tr>\n",
       "  </thead>\n",
       "  <tbody>\n",
       "    <tr>\n",
       "      <td>0</td>\n",
       "      <td>2000</td>\n",
       "      <td>2000-11-07</td>\n",
       "      <td>295</td>\n",
       "      <td>6882505.00</td>\n",
       "      <td>23330.53</td>\n",
       "      <td>1999-01-11</td>\n",
       "      <td>2000-12-31</td>\n",
       "      <td>-666</td>\n",
       "      <td>54</td>\n",
       "    </tr>\n",
       "    <tr>\n",
       "      <td>1</td>\n",
       "      <td>2002</td>\n",
       "      <td>2002-11-05</td>\n",
       "      <td>312</td>\n",
       "      <td>32106740.00</td>\n",
       "      <td>102906.22</td>\n",
       "      <td>2001-01-03</td>\n",
       "      <td>2002-12-23</td>\n",
       "      <td>-671</td>\n",
       "      <td>48</td>\n",
       "    </tr>\n",
       "    <tr>\n",
       "      <td>2</td>\n",
       "      <td>2004</td>\n",
       "      <td>2004-11-02</td>\n",
       "      <td>335</td>\n",
       "      <td>28080591.00</td>\n",
       "      <td>83822.66</td>\n",
       "      <td>2003-01-21</td>\n",
       "      <td>2004-12-31</td>\n",
       "      <td>-651</td>\n",
       "      <td>59</td>\n",
       "    </tr>\n",
       "    <tr>\n",
       "      <td>3</td>\n",
       "      <td>2006</td>\n",
       "      <td>2006-11-07</td>\n",
       "      <td>345</td>\n",
       "      <td>33215996.00</td>\n",
       "      <td>96278.25</td>\n",
       "      <td>2005-01-04</td>\n",
       "      <td>2006-12-29</td>\n",
       "      <td>-672</td>\n",
       "      <td>52</td>\n",
       "    </tr>\n",
       "    <tr>\n",
       "      <td>4</td>\n",
       "      <td>2008</td>\n",
       "      <td>2008-11-04</td>\n",
       "      <td>386</td>\n",
       "      <td>15334856.00</td>\n",
       "      <td>39727.61</td>\n",
       "      <td>2006-03-08</td>\n",
       "      <td>2009-09-28</td>\n",
       "      <td>-972</td>\n",
       "      <td>328</td>\n",
       "    </tr>\n",
       "    <tr>\n",
       "      <td>5</td>\n",
       "      <td>2010</td>\n",
       "      <td>2010-11-02</td>\n",
       "      <td>404</td>\n",
       "      <td>105298333.00</td>\n",
       "      <td>260639.44</td>\n",
       "      <td>2007-01-01</td>\n",
       "      <td>2010-12-31</td>\n",
       "      <td>-1401</td>\n",
       "      <td>59</td>\n",
       "    </tr>\n",
       "    <tr>\n",
       "      <td>6</td>\n",
       "      <td>2012</td>\n",
       "      <td>2012-11-06</td>\n",
       "      <td>448</td>\n",
       "      <td>291771883.00</td>\n",
       "      <td>651276.52</td>\n",
       "      <td>2011-01-01</td>\n",
       "      <td>2012-12-31</td>\n",
       "      <td>-675</td>\n",
       "      <td>55</td>\n",
       "    </tr>\n",
       "    <tr>\n",
       "      <td>7</td>\n",
       "      <td>2014</td>\n",
       "      <td>2014-11-04</td>\n",
       "      <td>463</td>\n",
       "      <td>201218838.00</td>\n",
       "      <td>434597.92</td>\n",
       "      <td>2012-06-02</td>\n",
       "      <td>2014-12-31</td>\n",
       "      <td>-885</td>\n",
       "      <td>57</td>\n",
       "    </tr>\n",
       "    <tr>\n",
       "      <td>8</td>\n",
       "      <td>2016</td>\n",
       "      <td>2016-11-08</td>\n",
       "      <td>554</td>\n",
       "      <td>722705756.00</td>\n",
       "      <td>1304523.03</td>\n",
       "      <td>2015-01-12</td>\n",
       "      <td>2016-12-31</td>\n",
       "      <td>-666</td>\n",
       "      <td>53</td>\n",
       "    </tr>\n",
       "    <tr>\n",
       "      <td>9</td>\n",
       "      <td>2018</td>\n",
       "      <td>2018-11-06</td>\n",
       "      <td>591</td>\n",
       "      <td>665768670.00</td>\n",
       "      <td>1126512.13</td>\n",
       "      <td>2016-09-06</td>\n",
       "      <td>2018-12-31</td>\n",
       "      <td>-791</td>\n",
       "      <td>55</td>\n",
       "    </tr>\n",
       "    <tr>\n",
       "      <td>10</td>\n",
       "      <td>2020</td>\n",
       "      <td>2020-11-03</td>\n",
       "      <td>163</td>\n",
       "      <td>72061769.00</td>\n",
       "      <td>442096.74</td>\n",
       "      <td>2018-06-26</td>\n",
       "      <td>2019-07-31</td>\n",
       "      <td>-861</td>\n",
       "      <td>-461</td>\n",
       "    </tr>\n",
       "  </tbody>\n",
       "</table>\n",
       "</div>"
      ],
      "text/plain": [
       "     key election_day  contrib_dates     total_amt     avg_amt    earliest  \\\n",
       "0   2000   2000-11-07            295    6882505.00    23330.53  1999-01-11   \n",
       "1   2002   2002-11-05            312   32106740.00   102906.22  2001-01-03   \n",
       "2   2004   2004-11-02            335   28080591.00    83822.66  2003-01-21   \n",
       "3   2006   2006-11-07            345   33215996.00    96278.25  2005-01-04   \n",
       "4   2008   2008-11-04            386   15334856.00    39727.61  2006-03-08   \n",
       "5   2010   2010-11-02            404  105298333.00   260639.44  2007-01-01   \n",
       "6   2012   2012-11-06            448  291771883.00   651276.52  2011-01-01   \n",
       "7   2014   2014-11-04            463  201218838.00   434597.92  2012-06-02   \n",
       "8   2016   2016-11-08            554  722705756.00  1304523.03  2015-01-12   \n",
       "9   2018   2018-11-06            591  665768670.00  1126512.13  2016-09-06   \n",
       "10  2020   2020-11-03            163   72061769.00   442096.74  2018-06-26   \n",
       "\n",
       "        latest  erly_days_rel  late_days_rel  \n",
       "0   2000-12-31           -666             54  \n",
       "1   2002-12-23           -671             48  \n",
       "2   2004-12-31           -651             59  \n",
       "3   2006-12-29           -672             52  \n",
       "4   2009-09-28           -972            328  \n",
       "5   2010-12-31          -1401             59  \n",
       "6   2012-12-31           -675             55  \n",
       "7   2014-12-31           -885             57  \n",
       "8   2016-12-31           -666             53  \n",
       "9   2018-12-31           -791             55  \n",
       "10  2019-07-31           -861           -461  "
      ]
     },
     "execution_count": 8,
     "metadata": {},
     "output_type": "execute_result"
    }
   ],
   "source": [
    "%%sql\n",
    "select *\n",
    "  from donor_ec_sum\n",
    " order by 1"
   ]
  },
  {
   "cell_type": "markdown",
   "metadata": {},
   "source": [
    "#### Execute query and plot ####\n",
    "\n",
    "For each of the contributions in `donor_ec_contrib`, we now query for the following:\n",
    "\n",
    "* `cycle_pct`: percentage of the total for the cycle\n",
    "* `cumul_cycle_amt`: cumulative amount for the cycle\n",
    "* `cumul_cycle_pct`: cumulative percentage for the cycle\n",
    "* `days_rel`: days before/after election date\n",
    "\n",
    "We save the results into a local DataFrame for graphical visualization below."
   ]
  },
  {
   "cell_type": "code",
   "execution_count": 9,
   "metadata": {},
   "outputs": [
    {
     "name": "stdout",
     "output_type": "stream",
     "text": [
      " * postgresql+psycopg2://crash@localhost/fecdb\n",
      "4296 rows affected.\n",
      "Returning data to local variable result\n"
     ]
    }
   ],
   "source": [
    "%%sql result <<\n",
    "select bec.elect_cycle,\n",
    "       bec.contrib_dt,\n",
    "       bec.contrib_amt                   as total_amt,\n",
    "       round(bec.contrib_amt / bes.total_amt * 100.0, 1)\n",
    "                                         as cycle_pct,\n",
    "       cumul.total_amt                   as cumul_cycle_amt,\n",
    "       round(cumul.total_amt / bes.total_amt * 100.0, 1)\n",
    "                                         as cumul_cycle_pct,\n",
    "       bec.contrib_dt - bes.election_day as days_rel\n",
    "  from donor_ec_contrib bec\n",
    "  join donor_ec_sum bes on bes.key = bec.elect_cycle\n",
    "  left join lateral\n",
    "       (select count(*)                as contribs,\n",
    "               nullif(count(*) - 1, 0) as intervals,\n",
    "               sum(bec2.contrib_amt)   as total_amt,\n",
    "               max(bec2.contrib_dt) - min(bec2.contrib_dt)\n",
    "                                       as elapsed_days\n",
    "          from donor_ec_contrib bec2\n",
    "         where bec2.elect_cycle = bec.elect_cycle\n",
    "           and bec2.contrib_dt <= bec.contrib_dt\n",
    "       ) as cumul on true\n",
    " order by 1, 2"
   ]
  },
  {
   "cell_type": "markdown",
   "metadata": {},
   "source": [
    "Plot cumulative amount given relative to election day (each color represents a different election cycle)"
   ]
  },
  {
   "cell_type": "code",
   "execution_count": 10,
   "metadata": {},
   "outputs": [
    {
     "data": {
      "text/plain": [
       "<matplotlib.collections.PathCollection at 0x7f60e999b208>"
      ]
     },
     "execution_count": 10,
     "metadata": {},
     "output_type": "execute_result"
    },
    {
     "data": {
      "image/png": "[encoded data removed]",
      "text/plain": [
       "<Figure size 432x288 with 1 Axes>"
      ]
     },
     "metadata": {
      "needs_background": "light"
     },
     "output_type": "display_data"
    }
   ],
   "source": [
    "x = result['days_rel']\n",
    "y = result['cumul_cycle_amt']\n",
    "z = result['elect_cycle']\n",
    "\n",
    "plt.scatter(x, y, marker='.', c=z, s=5)"
   ]
  },
  {
   "cell_type": "markdown",
   "metadata": {},
   "source": [
    "Plot cumulative percentage (for the cycle) given relative to election day (again, each color represents a different election cycle)"
   ]
  },
  {
   "cell_type": "code",
   "execution_count": 11,
   "metadata": {},
   "outputs": [
    {
     "data": {
      "text/plain": [
       "<matplotlib.collections.PathCollection at 0x7f60e74aeba8>"
      ]
     },
     "execution_count": 11,
     "metadata": {},
     "output_type": "execute_result"
    },
    {
     "data": {
      "image/png": "[encoded data removed]",
      "text/plain": [
       "<Figure size 432x288 with 1 Axes>"
      ]
     },
     "metadata": {
      "needs_background": "light"
     },
     "output_type": "display_data"
    }
   ],
   "source": [
    "x = result['days_rel']\n",
    "y = result['cumul_cycle_pct']\n",
    "z = result['elect_cycle']\n",
    "\n",
    "plt.scatter(x, y, marker='.', c=z, s=5)"
   ]
  },
  {
   "cell_type": "markdown",
   "metadata": {},
   "source": [
    "Plot individual contributions (as a percentage for the cycle) relative to election day (again, each color represents a different election cycle); it is interesting to see when in the cycle significant contributions (on the order of a few percentage points or more--in some cases, much more!) have been given."
   ]
  },
  {
   "cell_type": "code",
   "execution_count": 12,
   "metadata": {},
   "outputs": [
    {
     "data": {
      "text/plain": [
       "<matplotlib.collections.PathCollection at 0x7f60e741c5f8>"
      ]
     },
     "execution_count": 12,
     "metadata": {},
     "output_type": "execute_result"
    },
    {
     "data": {
      "image/png": "[encoded data removed]",
      "text/plain": [
       "<Figure size 432x288 with 1 Axes>"
      ]
     },
     "metadata": {
      "needs_background": "light"
     },
     "output_type": "display_data"
    }
   ],
   "source": [
    "x = result['days_rel']\n",
    "y = result['cycle_pct']\n",
    "z = result['elect_cycle']\n",
    "\n",
    "plt.scatter(x, y, marker='.', c=z, s=10)"
   ]
  }
 ],
 "metadata": {
  "kernelspec": {
   "display_name": "Python 3",
   "language": "python",
   "name": "python3"
  },
  "language_info": {
   "codemirror_mode": {
    "name": "ipython",
    "version": 3
   },
   "file_extension": ".py",
   "mimetype": "text/x-python",
   "name": "python",
   "nbconvert_exporter": "python",
   "pygments_lexer": "ipython3",
   "version": "3.6.8"
  }
 },
 "nbformat": 4,
 "nbformat_minor": 4
}
