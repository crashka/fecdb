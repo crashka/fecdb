{
 "cells": [
  {
   "cell_type": "markdown",
   "metadata": {},
   "source": [
    "# Test Jupyter #\n",
    "\n",
    "## Overview ##\n",
    "\n",
    "Use the same setup steps used in `fecdb/notebooks` to ensure that database connectivity is working\n",
    "\n",
    "## How to Use ##\n",
    "\n",
    "1. From the \"Kernel\" menu (above), select \"Restart & Run All\" (or equivalently, click on the \">>\" button just below the menu bar)\n",
    "2. Ensure that the `%sql` command below yields a successful connection (i.e. `Out[1]` should show \"Connected\"), and the test query returns data"
   ]
  },
  {
   "cell_type": "markdown",
   "metadata": {},
   "source": [
    "## Notebook Setup ##\n",
    "\n",
    "### Configure database connect info/options ###\n",
    "\n",
    "Note: database connect string can be specified on the initial `%sql` command:\n",
    "\n",
    "```python\n",
    "database_url = \"postgresql+psycopg2://user@localhost/fecdb\"\n",
    "%sql $database_url\n",
    "\n",
    "```\n",
    "\n",
    "Or, connect string is taken from DATABASE_URL environment variable (if not specified for `%sql`):\n",
    "\n",
    "```python\n",
    "%sql\n",
    "\n",
    "```"
   ]
  },
  {
   "cell_type": "code",
   "execution_count": null,
   "metadata": {},
   "outputs": [],
   "source": [
    "%load_ext sql\n",
    "%config SqlMagic.autopandas=True\n",
    "%config InteractiveShell.ast_node_interactivity='last_expr_or_assign'\n",
    "# connect string taken from DATABASE_URL environment variable\n",
    "%sql"
   ]
  },
  {
   "cell_type": "markdown",
   "metadata": {},
   "source": [
    "### Set styling ###"
   ]
  },
  {
   "cell_type": "code",
   "execution_count": null,
   "metadata": {},
   "outputs": [],
   "source": [
    "%%html\n",
    "<style>\n",
    "  tr, th, td {\n",
    "    text-align: left !important;\n",
    "  }\n",
    "</style>"
   ]
  },
  {
   "cell_type": "markdown",
   "metadata": {},
   "source": [
    "## Test Query ##"
   ]
  },
  {
   "cell_type": "code",
   "execution_count": null,
   "metadata": {},
   "outputs": [],
   "source": [
    "%%sql\n",
    "select *\n",
    "  from election_cycle"
   ]
  }
 ],
 "metadata": {
  "kernelspec": {
   "display_name": "Python 3",
   "language": "python",
   "name": "python3"
  },
  "language_info": {
   "codemirror_mode": {
    "name": "ipython",
    "version": 3
   },
   "file_extension": ".py",
   "mimetype": "text/x-python",
   "name": "python",
   "nbconvert_exporter": "python",
   "pygments_lexer": "ipython3",
   "version": "3.6.8"
  }
 },
 "nbformat": 4,
 "nbformat_minor": 2
}
