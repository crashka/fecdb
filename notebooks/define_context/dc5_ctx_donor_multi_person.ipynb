{
 "cells": [
  {
   "cell_type": "markdown",
   "metadata": {},
   "source": [
    "# Define Donor Context &ndash; Multi-Person Use Case #\n",
    "\n",
    "## Overview ##\n",
    "\n",
    "Explore the FEC data by specifying SQL predicates that identify **Donors**, which are sets of Individual (`indiv` table) records deemed (e.g. conjectured or asserted) to represent the same real-world person.  The advantage of using Donor (over Individual) is that it is possible to distinguish between the contribution of distinct people identities within a result set (to the degree that the Donor mappings are accurate).\n",
    "\n",
    "This approach will create the following query contexts:\n",
    "\n",
    "**Principal Context View**\n",
    "\n",
    "* `ctx_donor`\n",
    "\n",
    "**Dependent Context Views**\n",
    "\n",
    "* `ctx_indiv`\n",
    "* `ctx_indiv_contrib`\n",
    "* `ctx_donor_contrib`"
   ]
  },
  {
   "cell_type": "markdown",
   "metadata": {},
   "source": [
    "## Notebook Setup ##\n",
    "\n",
    "### Configure database connect info/options ###\n",
    "\n",
    "Note: database connect string can be specified on the initial `%sql` command:\n",
    "\n",
    "```python\n",
    "database_url = \"postgresql+psycopg2://user@localhost/fecdb\"\n",
    "%sql $database_url\n",
    "\n",
    "```\n",
    "\n",
    "Or, connect string is taken from DATABASE_URL environment variable (if not specified for `%sql`):\n",
    "\n",
    "```python\n",
    "%sql\n",
    "\n",
    "```"
   ]
  },
  {
   "cell_type": "code",
   "execution_count": 1,
   "metadata": {},
   "outputs": [
    {
     "data": {
      "text/plain": [
       "'Connected: crash@fecdb'"
      ]
     },
     "execution_count": 1,
     "metadata": {},
     "output_type": "execute_result"
    }
   ],
   "source": [
    "%load_ext sql\n",
    "%config SqlMagic.autopandas=True\n",
    "%config InteractiveShell.ast_node_interactivity='last_expr_or_assign'\n",
    "# connect string taken from DATABASE_URL environment variable\n",
    "%sql"
   ]
  },
  {
   "cell_type": "markdown",
   "metadata": {},
   "source": [
    "### Clear context ###\n",
    "\n",
    "Note that we drop *all* context views so we won't have any inconsistencies after this notebook is run.  After defining `ctx_indiv` below, we will define all dependent views (see Overview, above), and leave any higher-order or orthogonal views undefined"
   ]
  },
  {
   "cell_type": "code",
   "execution_count": 2,
   "metadata": {},
   "outputs": [
    {
     "name": "stdout",
     "output_type": "stream",
     "text": [
      " * postgresql+psycopg2://crash@localhost/fecdb\n",
      "Done.\n",
      " * postgresql+psycopg2://crash@localhost/fecdb\n",
      "Done.\n",
      " * postgresql+psycopg2://crash@localhost/fecdb\n",
      "Done.\n",
      " * postgresql+psycopg2://crash@localhost/fecdb\n",
      "Done.\n",
      " * postgresql+psycopg2://crash@localhost/fecdb\n",
      "Done.\n",
      " * postgresql+psycopg2://crash@localhost/fecdb\n",
      "Done.\n",
      " * postgresql+psycopg2://crash@localhost/fecdb\n",
      "Done.\n",
      " * postgresql+psycopg2://crash@localhost/fecdb\n",
      "Done.\n",
      " * postgresql+psycopg2://crash@localhost/fecdb\n",
      "Done.\n"
     ]
    },
    {
     "data": {
      "text/html": [
       "<div>\n",
       "<style scoped>\n",
       "    .dataframe tbody tr th:only-of-type {\n",
       "        vertical-align: middle;\n",
       "    }\n",
       "\n",
       "    .dataframe tbody tr th {\n",
       "        vertical-align: top;\n",
       "    }\n",
       "\n",
       "    .dataframe thead th {\n",
       "        text-align: right;\n",
       "    }\n",
       "</style>\n",
       "<table border=\"1\" class=\"dataframe\">\n",
       "  <thead>\n",
       "    <tr style=\"text-align: right;\">\n",
       "      <th></th>\n",
       "    </tr>\n",
       "  </thead>\n",
       "  <tbody>\n",
       "  </tbody>\n",
       "</table>\n",
       "</div>"
      ],
      "text/plain": [
       "Empty DataFrame\n",
       "Columns: []\n",
       "Index: []"
      ]
     },
     "execution_count": 2,
     "metadata": {},
     "output_type": "execute_result"
    }
   ],
   "source": [
    "%sql drop view if exists ctx_dseg_memb     cascade\n",
    "%sql drop view if exists ctx_dseg          cascade\n",
    "%sql drop view if exists ctx_donor_contrib cascade\n",
    "%sql drop view if exists ctx_donor         cascade\n",
    "%sql drop view if exists ctx_household     cascade\n",
    "%sql drop view if exists ctx_iseg_memb     cascade\n",
    "%sql drop view if exists ctx_iseg          cascade\n",
    "%sql drop view if exists ctx_indiv_contrib cascade\n",
    "%sql drop view if exists ctx_indiv         cascade"
   ]
  },
  {
   "cell_type": "markdown",
   "metadata": {},
   "source": [
    "### Set styling ###"
   ]
  },
  {
   "cell_type": "code",
   "execution_count": 3,
   "metadata": {},
   "outputs": [
    {
     "data": {
      "text/html": [
       "<style>\n",
       "  tr, th, td {\n",
       "    text-align: left !important;\n",
       "  }\n",
       "</style>\n"
      ],
      "text/plain": [
       "<IPython.core.display.HTML object>"
      ]
     },
     "metadata": {},
     "output_type": "display_data"
    }
   ],
   "source": [
    "%%html\n",
    "<style>\n",
    "  tr, th, td {\n",
    "    text-align: left !important;\n",
    "  }\n",
    "</style>"
   ]
  },
  {
   "cell_type": "markdown",
   "metadata": {},
   "source": [
    "## Create Donor Identities ##\n",
    "\n",
    "Since the single-donor case is pretty straightforward, let's go with a multi-donor example here.  We'll create Donor identities for each of the people we have identified in the household examined in `el_queries1.sql` and `el_queries3.sql`.\n",
    "\n",
    "First, we identity the primary donor in the household."
   ]
  },
  {
   "cell_type": "code",
   "execution_count": 4,
   "metadata": {},
   "outputs": [
    {
     "name": "stdout",
     "output_type": "stream",
     "text": [
      " * postgresql+psycopg2://crash@localhost/fecdb\n",
      "1 rows affected.\n",
      "Returning data to local variable result\n"
     ]
    }
   ],
   "source": [
    "%%sql result <<\n",
    "with indiv_set as (\n",
    "    select i.*\n",
    "      from indiv i\n",
    "     where i.name like 'SANDELL, SCOTT%'\n",
    "       and i.zip_code ~ '9402[58]'\n",
    "       and i.name !~ 'MRS\\.'\n",
    ")\n",
    "select set_donor_indiv('indiv', array_agg(id)) as donor_indiv_id\n",
    "  from indiv_set"
   ]
  },
  {
   "cell_type": "code",
   "execution_count": 5,
   "metadata": {
    "scrolled": true
   },
   "outputs": [
    {
     "data": {
      "text/plain": [
       "10527429"
      ]
     },
     "execution_count": 5,
     "metadata": {},
     "output_type": "execute_result"
    }
   ],
   "source": [
    "donor_indiv_id1 = int(result.loc[0][0])"
   ]
  },
  {
   "cell_type": "markdown",
   "metadata": {},
   "source": [
    "Next, we identify the other donor (or, remaining donors) in the household, by exclusion"
   ]
  },
  {
   "cell_type": "code",
   "execution_count": 6,
   "metadata": {},
   "outputs": [
    {
     "name": "stdout",
     "output_type": "stream",
     "text": [
      " * postgresql+psycopg2://crash@localhost/fecdb\n",
      "1 rows affected.\n",
      "Returning data to local variable result\n"
     ]
    }
   ],
   "source": [
    "%%sql result <<\n",
    "with indiv_set as (\n",
    "    select i.*\n",
    "      from indiv i\n",
    "     where i.name like 'SANDELL, %'\n",
    "       and i.zip_code ~ '9402[58]'\n",
    "       and coalesce(i.donor_indiv_id, 0) != :donor_indiv_id1\n",
    ")\n",
    "select set_donor_indiv('indiv', array_agg(id)) as donor_indiv_id\n",
    "  from indiv_set"
   ]
  },
  {
   "cell_type": "code",
   "execution_count": 7,
   "metadata": {},
   "outputs": [
    {
     "data": {
      "text/plain": [
       "10527363"
      ]
     },
     "execution_count": 7,
     "metadata": {},
     "output_type": "execute_result"
    }
   ],
   "source": [
    "donor_indiv_id2 = int(result.loc[0][0])"
   ]
  },
  {
   "cell_type": "markdown",
   "metadata": {},
   "source": [
    "## Create Principal View (`ctx_donor`) ##\n",
    "\n",
    "Now we set the query context to be the combinatin of the two Donor identities just created (identified by `donor_indiv_id`)"
   ]
  },
  {
   "cell_type": "code",
   "execution_count": 8,
   "metadata": {},
   "outputs": [
    {
     "name": "stdout",
     "output_type": "stream",
     "text": [
      " * postgresql+psycopg2://crash@localhost/fecdb\n",
      "Done.\n"
     ]
    },
    {
     "data": {
      "text/html": [
       "<div>\n",
       "<style scoped>\n",
       "    .dataframe tbody tr th:only-of-type {\n",
       "        vertical-align: middle;\n",
       "    }\n",
       "\n",
       "    .dataframe tbody tr th {\n",
       "        vertical-align: top;\n",
       "    }\n",
       "\n",
       "    .dataframe thead th {\n",
       "        text-align: right;\n",
       "    }\n",
       "</style>\n",
       "<table border=\"1\" class=\"dataframe\">\n",
       "  <thead>\n",
       "    <tr style=\"text-align: right;\">\n",
       "      <th></th>\n",
       "    </tr>\n",
       "  </thead>\n",
       "  <tbody>\n",
       "  </tbody>\n",
       "</table>\n",
       "</div>"
      ],
      "text/plain": [
       "Empty DataFrame\n",
       "Columns: []\n",
       "Index: []"
      ]
     },
     "execution_count": 8,
     "metadata": {},
     "output_type": "execute_result"
    }
   ],
   "source": [
    "%%sql\n",
    "create or replace view ctx_donor as\n",
    "select d.*\n",
    "  from donor_indiv d\n",
    " where d.id in (:donor_indiv_id1, :donor_indiv_id2)"
   ]
  },
  {
   "cell_type": "markdown",
   "metadata": {},
   "source": [
    "Let's take a quick look at the context before proceeding.  Note: even though these records are coming from the `indiv` table, we really consider them to be coming from the `donor_indiv` view, thus in the **Donor** domain (and not the **Individual** domain)."
   ]
  },
  {
   "cell_type": "code",
   "execution_count": 9,
   "metadata": {},
   "outputs": [
    {
     "name": "stdout",
     "output_type": "stream",
     "text": [
      " * postgresql+psycopg2://crash@localhost/fecdb\n",
      "2 rows affected.\n"
     ]
    },
    {
     "data": {
      "text/html": [
       "<div>\n",
       "<style scoped>\n",
       "    .dataframe tbody tr th:only-of-type {\n",
       "        vertical-align: middle;\n",
       "    }\n",
       "\n",
       "    .dataframe tbody tr th {\n",
       "        vertical-align: top;\n",
       "    }\n",
       "\n",
       "    .dataframe thead th {\n",
       "        text-align: right;\n",
       "    }\n",
       "</style>\n",
       "<table border=\"1\" class=\"dataframe\">\n",
       "  <thead>\n",
       "    <tr style=\"text-align: right;\">\n",
       "      <th></th>\n",
       "      <th>id</th>\n",
       "      <th>name</th>\n",
       "      <th>city</th>\n",
       "      <th>state</th>\n",
       "      <th>zip_code</th>\n",
       "      <th>elect_cycles</th>\n",
       "    </tr>\n",
       "  </thead>\n",
       "  <tbody>\n",
       "    <tr>\n",
       "      <td>0</td>\n",
       "      <td>10527363</td>\n",
       "      <td>SANDELL, JENNIFER</td>\n",
       "      <td>MENLO PARK</td>\n",
       "      <td>CA</td>\n",
       "      <td>94025</td>\n",
       "      <td>[2004, 2006, 2008, 2010]</td>\n",
       "    </tr>\n",
       "    <tr>\n",
       "      <td>1</td>\n",
       "      <td>10527429</td>\n",
       "      <td>SANDELL, SCOTT</td>\n",
       "      <td>MENLO PARK</td>\n",
       "      <td>CA</td>\n",
       "      <td>94025</td>\n",
       "      <td>[2000, 2008, 2010, 2012, 2016]</td>\n",
       "    </tr>\n",
       "  </tbody>\n",
       "</table>\n",
       "</div>"
      ],
      "text/plain": [
       "         id               name        city state zip_code  \\\n",
       "0  10527363  SANDELL, JENNIFER  MENLO PARK    CA    94025   \n",
       "1  10527429     SANDELL, SCOTT  MENLO PARK    CA    94025   \n",
       "\n",
       "                     elect_cycles  \n",
       "0        [2004, 2006, 2008, 2010]  \n",
       "1  [2000, 2008, 2010, 2012, 2016]  "
      ]
     },
     "execution_count": 9,
     "metadata": {},
     "output_type": "execute_result"
    }
   ],
   "source": [
    "%%sql\n",
    "select id,\n",
    "       name,\n",
    "       city,\n",
    "       state,\n",
    "       zip_code,\n",
    "       elect_cycles\n",
    "  from ctx_donor"
   ]
  },
  {
   "cell_type": "markdown",
   "metadata": {},
   "source": [
    "## Create Dependent Views ##\n",
    "\n",
    "### Create `ctx_indiv` ###"
   ]
  },
  {
   "cell_type": "code",
   "execution_count": 10,
   "metadata": {},
   "outputs": [
    {
     "name": "stdout",
     "output_type": "stream",
     "text": [
      " * postgresql+psycopg2://crash@localhost/fecdb\n",
      "Done.\n"
     ]
    },
    {
     "data": {
      "text/html": [
       "<div>\n",
       "<style scoped>\n",
       "    .dataframe tbody tr th:only-of-type {\n",
       "        vertical-align: middle;\n",
       "    }\n",
       "\n",
       "    .dataframe tbody tr th {\n",
       "        vertical-align: top;\n",
       "    }\n",
       "\n",
       "    .dataframe thead th {\n",
       "        text-align: right;\n",
       "    }\n",
       "</style>\n",
       "<table border=\"1\" class=\"dataframe\">\n",
       "  <thead>\n",
       "    <tr style=\"text-align: right;\">\n",
       "      <th></th>\n",
       "    </tr>\n",
       "  </thead>\n",
       "  <tbody>\n",
       "  </tbody>\n",
       "</table>\n",
       "</div>"
      ],
      "text/plain": [
       "Empty DataFrame\n",
       "Columns: []\n",
       "Index: []"
      ]
     },
     "execution_count": 10,
     "metadata": {},
     "output_type": "execute_result"
    }
   ],
   "source": [
    "%%sql\n",
    "create or replace view ctx_indiv as\n",
    "select i.*\n",
    "  from ctx_donor dx\n",
    "  join indiv i on i.donor_indiv_id = dx.id"
   ]
  },
  {
   "cell_type": "markdown",
   "metadata": {},
   "source": [
    "And visually inspect..."
   ]
  },
  {
   "cell_type": "code",
   "execution_count": 11,
   "metadata": {},
   "outputs": [
    {
     "name": "stdout",
     "output_type": "stream",
     "text": [
      " * postgresql+psycopg2://crash@localhost/fecdb\n",
      "27 rows affected.\n"
     ]
    },
    {
     "data": {
      "text/html": [
       "<div>\n",
       "<style scoped>\n",
       "    .dataframe tbody tr th:only-of-type {\n",
       "        vertical-align: middle;\n",
       "    }\n",
       "\n",
       "    .dataframe tbody tr th {\n",
       "        vertical-align: top;\n",
       "    }\n",
       "\n",
       "    .dataframe thead th {\n",
       "        text-align: right;\n",
       "    }\n",
       "</style>\n",
       "<table border=\"1\" class=\"dataframe\">\n",
       "  <thead>\n",
       "    <tr style=\"text-align: right;\">\n",
       "      <th></th>\n",
       "      <th>id</th>\n",
       "      <th>name</th>\n",
       "      <th>city</th>\n",
       "      <th>state</th>\n",
       "      <th>zip_code</th>\n",
       "      <th>elect_cycles</th>\n",
       "      <th>donor_indiv_id</th>\n",
       "    </tr>\n",
       "  </thead>\n",
       "  <tbody>\n",
       "    <tr>\n",
       "      <td>0</td>\n",
       "      <td>10527365</td>\n",
       "      <td>SANDELL, JENNIFER</td>\n",
       "      <td>PORTOLA VALLEY</td>\n",
       "      <td>CA</td>\n",
       "      <td>94028</td>\n",
       "      <td>[2018]</td>\n",
       "      <td>10527363</td>\n",
       "    </tr>\n",
       "    <tr>\n",
       "      <td>1</td>\n",
       "      <td>10527366</td>\n",
       "      <td>SANDELL, JENNIFER</td>\n",
       "      <td>PORTOLA VALLEY</td>\n",
       "      <td>CA</td>\n",
       "      <td>940287608</td>\n",
       "      <td>[2016, 2018, 2020]</td>\n",
       "      <td>10527363</td>\n",
       "    </tr>\n",
       "    <tr>\n",
       "      <td>2</td>\n",
       "      <td>10527364</td>\n",
       "      <td>SANDELL, JENNIFER</td>\n",
       "      <td>MENLO PARK</td>\n",
       "      <td>CA</td>\n",
       "      <td>940250</td>\n",
       "      <td>[2004]</td>\n",
       "      <td>10527363</td>\n",
       "    </tr>\n",
       "    <tr>\n",
       "      <td>3</td>\n",
       "      <td>10527370</td>\n",
       "      <td>SANDELL, JENNIFER AYER</td>\n",
       "      <td>MENLO PARK</td>\n",
       "      <td>CA</td>\n",
       "      <td>94025</td>\n",
       "      <td>[2004, 2010]</td>\n",
       "      <td>10527363</td>\n",
       "    </tr>\n",
       "    <tr>\n",
       "      <td>4</td>\n",
       "      <td>10527371</td>\n",
       "      <td>SANDELL, JENNIFER MS.</td>\n",
       "      <td>MENLO PARK</td>\n",
       "      <td>CA</td>\n",
       "      <td>94025</td>\n",
       "      <td>[2004]</td>\n",
       "      <td>10527363</td>\n",
       "    </tr>\n",
       "    <tr>\n",
       "      <td>5</td>\n",
       "      <td>10527368</td>\n",
       "      <td>SANDELL, JENNIFER A</td>\n",
       "      <td>MENLO PARK</td>\n",
       "      <td>CA</td>\n",
       "      <td>94025</td>\n",
       "      <td>[2006, 2008]</td>\n",
       "      <td>10527363</td>\n",
       "    </tr>\n",
       "    <tr>\n",
       "      <td>6</td>\n",
       "      <td>10527363</td>\n",
       "      <td>SANDELL, JENNIFER</td>\n",
       "      <td>MENLO PARK</td>\n",
       "      <td>CA</td>\n",
       "      <td>94025</td>\n",
       "      <td>[2004, 2006, 2008, 2010]</td>\n",
       "      <td>10527363</td>\n",
       "    </tr>\n",
       "    <tr>\n",
       "      <td>7</td>\n",
       "      <td>10527369</td>\n",
       "      <td>SANDELL, JENNIFER A MS.</td>\n",
       "      <td>MENLO PARK</td>\n",
       "      <td>CA</td>\n",
       "      <td>94025</td>\n",
       "      <td>[2004]</td>\n",
       "      <td>10527363</td>\n",
       "    </tr>\n",
       "    <tr>\n",
       "      <td>8</td>\n",
       "      <td>10527447</td>\n",
       "      <td>SANDELL, SCOTT MRS.</td>\n",
       "      <td>MENLO PARK</td>\n",
       "      <td>CA</td>\n",
       "      <td>94025</td>\n",
       "      <td>[2004]</td>\n",
       "      <td>10527363</td>\n",
       "    </tr>\n",
       "    <tr>\n",
       "      <td>9</td>\n",
       "      <td>10527442</td>\n",
       "      <td>SANDELL, SCOTT MR.</td>\n",
       "      <td>MENLO PARK</td>\n",
       "      <td>CA</td>\n",
       "      <td>94025</td>\n",
       "      <td>[2000, 2002, 2004, 2006]</td>\n",
       "      <td>10527429</td>\n",
       "    </tr>\n",
       "    <tr>\n",
       "      <td>10</td>\n",
       "      <td>10527439</td>\n",
       "      <td>SANDELL, SCOTT D.</td>\n",
       "      <td>MENLO PARK</td>\n",
       "      <td>CA</td>\n",
       "      <td>940257022</td>\n",
       "      <td>[2018]</td>\n",
       "      <td>10527429</td>\n",
       "    </tr>\n",
       "    <tr>\n",
       "      <td>11</td>\n",
       "      <td>10527446</td>\n",
       "      <td>SANDELL, SCOTT MR.</td>\n",
       "      <td>PORTOLA VALLEY</td>\n",
       "      <td>CA</td>\n",
       "      <td>940287608</td>\n",
       "      <td>[2018]</td>\n",
       "      <td>10527429</td>\n",
       "    </tr>\n",
       "    <tr>\n",
       "      <td>12</td>\n",
       "      <td>10527440</td>\n",
       "      <td>SANDELL, SCOTT D.</td>\n",
       "      <td>PORTOLA VALLEY</td>\n",
       "      <td>CA</td>\n",
       "      <td>94028</td>\n",
       "      <td>[2016]</td>\n",
       "      <td>10527429</td>\n",
       "    </tr>\n",
       "    <tr>\n",
       "      <td>13</td>\n",
       "      <td>10527436</td>\n",
       "      <td>SANDELL, SCOTT D</td>\n",
       "      <td>PORTOLA VALLEY</td>\n",
       "      <td>CA</td>\n",
       "      <td>94028</td>\n",
       "      <td>[2012]</td>\n",
       "      <td>10527429</td>\n",
       "    </tr>\n",
       "    <tr>\n",
       "      <td>14</td>\n",
       "      <td>10527432</td>\n",
       "      <td>SANDELL, SCOTT</td>\n",
       "      <td>PORTOLA VALLEY</td>\n",
       "      <td>CA</td>\n",
       "      <td>940287608</td>\n",
       "      <td>[2016]</td>\n",
       "      <td>10527429</td>\n",
       "    </tr>\n",
       "    <tr>\n",
       "      <td>15</td>\n",
       "      <td>10527443</td>\n",
       "      <td>SANDELL, SCOTT MR.</td>\n",
       "      <td>MENLO PARK</td>\n",
       "      <td>CA</td>\n",
       "      <td>940256940</td>\n",
       "      <td>[2004, 2006]</td>\n",
       "      <td>10527429</td>\n",
       "    </tr>\n",
       "    <tr>\n",
       "      <td>16</td>\n",
       "      <td>10527444</td>\n",
       "      <td>SANDELL, SCOTT MR.</td>\n",
       "      <td>MENLO PARK</td>\n",
       "      <td>CA</td>\n",
       "      <td>940257022</td>\n",
       "      <td>[2018, 2020]</td>\n",
       "      <td>10527429</td>\n",
       "    </tr>\n",
       "    <tr>\n",
       "      <td>17</td>\n",
       "      <td>10527441</td>\n",
       "      <td>SANDELL, SCOTT D. MR.</td>\n",
       "      <td>MENLO PARK</td>\n",
       "      <td>CA</td>\n",
       "      <td>94025</td>\n",
       "      <td>[2000, 2008, 2010, 2012]</td>\n",
       "      <td>10527429</td>\n",
       "    </tr>\n",
       "    <tr>\n",
       "      <td>18</td>\n",
       "      <td>10527434</td>\n",
       "      <td>SANDELL, SCOTT D</td>\n",
       "      <td>MENLO PARK</td>\n",
       "      <td>CA</td>\n",
       "      <td>940256112</td>\n",
       "      <td>[2014]</td>\n",
       "      <td>10527429</td>\n",
       "    </tr>\n",
       "    <tr>\n",
       "      <td>19</td>\n",
       "      <td>10527431</td>\n",
       "      <td>SANDELL, SCOTT</td>\n",
       "      <td>PORTOLA VALLEY</td>\n",
       "      <td>CA</td>\n",
       "      <td>94028</td>\n",
       "      <td>[2010, 2016]</td>\n",
       "      <td>10527429</td>\n",
       "    </tr>\n",
       "    <tr>\n",
       "      <td>20</td>\n",
       "      <td>10527438</td>\n",
       "      <td>SANDELL, SCOTT D.</td>\n",
       "      <td>MENLO PARK</td>\n",
       "      <td>CA</td>\n",
       "      <td>94025</td>\n",
       "      <td>[2010]</td>\n",
       "      <td>10527429</td>\n",
       "    </tr>\n",
       "    <tr>\n",
       "      <td>21</td>\n",
       "      <td>10527445</td>\n",
       "      <td>SANDELL, SCOTT MR.</td>\n",
       "      <td>PORTOLA VALLEY</td>\n",
       "      <td>CA</td>\n",
       "      <td>94028</td>\n",
       "      <td>[2018]</td>\n",
       "      <td>10527429</td>\n",
       "    </tr>\n",
       "    <tr>\n",
       "      <td>22</td>\n",
       "      <td>10527437</td>\n",
       "      <td>SANDELL, SCOTT D</td>\n",
       "      <td>PORTOLA VALLEY</td>\n",
       "      <td>CA</td>\n",
       "      <td>940287608</td>\n",
       "      <td>[2016]</td>\n",
       "      <td>10527429</td>\n",
       "    </tr>\n",
       "    <tr>\n",
       "      <td>23</td>\n",
       "      <td>10527435</td>\n",
       "      <td>SANDELL, SCOTT D</td>\n",
       "      <td>MENLO PARK</td>\n",
       "      <td>CA</td>\n",
       "      <td>940257022</td>\n",
       "      <td>[2016]</td>\n",
       "      <td>10527429</td>\n",
       "    </tr>\n",
       "    <tr>\n",
       "      <td>24</td>\n",
       "      <td>10527429</td>\n",
       "      <td>SANDELL, SCOTT</td>\n",
       "      <td>MENLO PARK</td>\n",
       "      <td>CA</td>\n",
       "      <td>94025</td>\n",
       "      <td>[2000, 2008, 2010, 2012, 2016]</td>\n",
       "      <td>10527429</td>\n",
       "    </tr>\n",
       "    <tr>\n",
       "      <td>25</td>\n",
       "      <td>10527430</td>\n",
       "      <td>SANDELL, SCOTT</td>\n",
       "      <td>MENLO PARK</td>\n",
       "      <td>CA</td>\n",
       "      <td>940257022</td>\n",
       "      <td>[2016, 2018, 2020]</td>\n",
       "      <td>10527429</td>\n",
       "    </tr>\n",
       "    <tr>\n",
       "      <td>26</td>\n",
       "      <td>10527433</td>\n",
       "      <td>SANDELL, SCOTT D</td>\n",
       "      <td>MENLO PARK</td>\n",
       "      <td>CA</td>\n",
       "      <td>94025</td>\n",
       "      <td>[2004, 2006, 2008, 2010]</td>\n",
       "      <td>10527429</td>\n",
       "    </tr>\n",
       "  </tbody>\n",
       "</table>\n",
       "</div>"
      ],
      "text/plain": [
       "          id                     name            city state   zip_code  \\\n",
       "0   10527365        SANDELL, JENNIFER  PORTOLA VALLEY    CA      94028   \n",
       "1   10527366        SANDELL, JENNIFER  PORTOLA VALLEY    CA  940287608   \n",
       "2   10527364        SANDELL, JENNIFER      MENLO PARK    CA     940250   \n",
       "3   10527370   SANDELL, JENNIFER AYER      MENLO PARK    CA      94025   \n",
       "4   10527371    SANDELL, JENNIFER MS.      MENLO PARK    CA      94025   \n",
       "5   10527368      SANDELL, JENNIFER A      MENLO PARK    CA      94025   \n",
       "6   10527363        SANDELL, JENNIFER      MENLO PARK    CA      94025   \n",
       "7   10527369  SANDELL, JENNIFER A MS.      MENLO PARK    CA      94025   \n",
       "8   10527447      SANDELL, SCOTT MRS.      MENLO PARK    CA      94025   \n",
       "9   10527442       SANDELL, SCOTT MR.      MENLO PARK    CA      94025   \n",
       "10  10527439        SANDELL, SCOTT D.      MENLO PARK    CA  940257022   \n",
       "11  10527446       SANDELL, SCOTT MR.  PORTOLA VALLEY    CA  940287608   \n",
       "12  10527440        SANDELL, SCOTT D.  PORTOLA VALLEY    CA      94028   \n",
       "13  10527436         SANDELL, SCOTT D  PORTOLA VALLEY    CA      94028   \n",
       "14  10527432           SANDELL, SCOTT  PORTOLA VALLEY    CA  940287608   \n",
       "15  10527443       SANDELL, SCOTT MR.      MENLO PARK    CA  940256940   \n",
       "16  10527444       SANDELL, SCOTT MR.      MENLO PARK    CA  940257022   \n",
       "17  10527441    SANDELL, SCOTT D. MR.      MENLO PARK    CA      94025   \n",
       "18  10527434         SANDELL, SCOTT D      MENLO PARK    CA  940256112   \n",
       "19  10527431           SANDELL, SCOTT  PORTOLA VALLEY    CA      94028   \n",
       "20  10527438        SANDELL, SCOTT D.      MENLO PARK    CA      94025   \n",
       "21  10527445       SANDELL, SCOTT MR.  PORTOLA VALLEY    CA      94028   \n",
       "22  10527437         SANDELL, SCOTT D  PORTOLA VALLEY    CA  940287608   \n",
       "23  10527435         SANDELL, SCOTT D      MENLO PARK    CA  940257022   \n",
       "24  10527429           SANDELL, SCOTT      MENLO PARK    CA      94025   \n",
       "25  10527430           SANDELL, SCOTT      MENLO PARK    CA  940257022   \n",
       "26  10527433         SANDELL, SCOTT D      MENLO PARK    CA      94025   \n",
       "\n",
       "                      elect_cycles  donor_indiv_id  \n",
       "0                           [2018]        10527363  \n",
       "1               [2016, 2018, 2020]        10527363  \n",
       "2                           [2004]        10527363  \n",
       "3                     [2004, 2010]        10527363  \n",
       "4                           [2004]        10527363  \n",
       "5                     [2006, 2008]        10527363  \n",
       "6         [2004, 2006, 2008, 2010]        10527363  \n",
       "7                           [2004]        10527363  \n",
       "8                           [2004]        10527363  \n",
       "9         [2000, 2002, 2004, 2006]        10527429  \n",
       "10                          [2018]        10527429  \n",
       "11                          [2018]        10527429  \n",
       "12                          [2016]        10527429  \n",
       "13                          [2012]        10527429  \n",
       "14                          [2016]        10527429  \n",
       "15                    [2004, 2006]        10527429  \n",
       "16                    [2018, 2020]        10527429  \n",
       "17        [2000, 2008, 2010, 2012]        10527429  \n",
       "18                          [2014]        10527429  \n",
       "19                    [2010, 2016]        10527429  \n",
       "20                          [2010]        10527429  \n",
       "21                          [2018]        10527429  \n",
       "22                          [2016]        10527429  \n",
       "23                          [2016]        10527429  \n",
       "24  [2000, 2008, 2010, 2012, 2016]        10527429  \n",
       "25              [2016, 2018, 2020]        10527429  \n",
       "26        [2004, 2006, 2008, 2010]        10527429  "
      ]
     },
     "execution_count": 11,
     "metadata": {},
     "output_type": "execute_result"
    }
   ],
   "source": [
    "%%sql\n",
    "select id,\n",
    "       name,\n",
    "       city,\n",
    "       state,\n",
    "       zip_code,\n",
    "       elect_cycles,\n",
    "       donor_indiv_id\n",
    "  from ctx_indiv\n",
    " order by donor_indiv_id"
   ]
  },
  {
   "cell_type": "markdown",
   "metadata": {},
   "source": [
    "### Create `ctx_indiv_contrib` ###"
   ]
  },
  {
   "cell_type": "code",
   "execution_count": 12,
   "metadata": {},
   "outputs": [
    {
     "name": "stdout",
     "output_type": "stream",
     "text": [
      " * postgresql+psycopg2://crash@localhost/fecdb\n",
      "Done.\n"
     ]
    },
    {
     "data": {
      "text/html": [
       "<div>\n",
       "<style scoped>\n",
       "    .dataframe tbody tr th:only-of-type {\n",
       "        vertical-align: middle;\n",
       "    }\n",
       "\n",
       "    .dataframe tbody tr th {\n",
       "        vertical-align: top;\n",
       "    }\n",
       "\n",
       "    .dataframe thead th {\n",
       "        text-align: right;\n",
       "    }\n",
       "</style>\n",
       "<table border=\"1\" class=\"dataframe\">\n",
       "  <thead>\n",
       "    <tr style=\"text-align: right;\">\n",
       "      <th></th>\n",
       "    </tr>\n",
       "  </thead>\n",
       "  <tbody>\n",
       "  </tbody>\n",
       "</table>\n",
       "</div>"
      ],
      "text/plain": [
       "Empty DataFrame\n",
       "Columns: []\n",
       "Index: []"
      ]
     },
     "execution_count": 12,
     "metadata": {},
     "output_type": "execute_result"
    }
   ],
   "source": [
    "%%sql\n",
    "create or replace view ctx_indiv_contrib as\n",
    "select ic.*\n",
    "  from ctx_indiv ix\n",
    "  join indiv_contrib ic on ic.indiv_id = ix.id"
   ]
  },
  {
   "cell_type": "markdown",
   "metadata": {},
   "source": [
    "And validate..."
   ]
  },
  {
   "cell_type": "code",
   "execution_count": 13,
   "metadata": {},
   "outputs": [
    {
     "name": "stdout",
     "output_type": "stream",
     "text": [
      " * postgresql+psycopg2://crash@localhost/fecdb\n",
      "1 rows affected.\n"
     ]
    },
    {
     "data": {
      "text/html": [
       "<div>\n",
       "<style scoped>\n",
       "    .dataframe tbody tr th:only-of-type {\n",
       "        vertical-align: middle;\n",
       "    }\n",
       "\n",
       "    .dataframe tbody tr th {\n",
       "        vertical-align: top;\n",
       "    }\n",
       "\n",
       "    .dataframe thead th {\n",
       "        text-align: right;\n",
       "    }\n",
       "</style>\n",
       "<table border=\"1\" class=\"dataframe\">\n",
       "  <thead>\n",
       "    <tr style=\"text-align: right;\">\n",
       "      <th></th>\n",
       "      <th>contribs</th>\n",
       "      <th>total_amt</th>\n",
       "      <th>elect_cycles</th>\n",
       "    </tr>\n",
       "  </thead>\n",
       "  <tbody>\n",
       "    <tr>\n",
       "      <td>0</td>\n",
       "      <td>101</td>\n",
       "      <td>264450.00</td>\n",
       "      <td>[2000, 2002, 2004, 2006, 2008, 2010, 2012, 201...</td>\n",
       "    </tr>\n",
       "  </tbody>\n",
       "</table>\n",
       "</div>"
      ],
      "text/plain": [
       "   contribs  total_amt                                       elect_cycles\n",
       "0       101  264450.00  [2000, 2002, 2004, 2006, 2008, 2010, 2012, 201..."
      ]
     },
     "execution_count": 13,
     "metadata": {},
     "output_type": "execute_result"
    }
   ],
   "source": [
    "%%sql\n",
    "select count(*)             as contribs,\n",
    "       sum(transaction_amt) as total_amt,\n",
    "       array_agg(distinct elect_cycle) as elect_cycles\n",
    "  from ctx_indiv_contrib"
   ]
  },
  {
   "cell_type": "markdown",
   "metadata": {},
   "source": [
    "### Create `ctx_donor_contrib` ###\n",
    "\n",
    "This is really the same as `ctx_indiv_contrib`, except that we are adding `donor_indiv_id` on top of the `indiv_contrib` columns so that queries using this context view are able to join to (and/or group by) the underlying Donor record (and not just the Individual associated with the contribution record)."
   ]
  },
  {
   "cell_type": "code",
   "execution_count": 14,
   "metadata": {},
   "outputs": [
    {
     "name": "stdout",
     "output_type": "stream",
     "text": [
      " * postgresql+psycopg2://crash@localhost/fecdb\n",
      "Done.\n"
     ]
    },
    {
     "data": {
      "text/html": [
       "<div>\n",
       "<style scoped>\n",
       "    .dataframe tbody tr th:only-of-type {\n",
       "        vertical-align: middle;\n",
       "    }\n",
       "\n",
       "    .dataframe tbody tr th {\n",
       "        vertical-align: top;\n",
       "    }\n",
       "\n",
       "    .dataframe thead th {\n",
       "        text-align: right;\n",
       "    }\n",
       "</style>\n",
       "<table border=\"1\" class=\"dataframe\">\n",
       "  <thead>\n",
       "    <tr style=\"text-align: right;\">\n",
       "      <th></th>\n",
       "    </tr>\n",
       "  </thead>\n",
       "  <tbody>\n",
       "  </tbody>\n",
       "</table>\n",
       "</div>"
      ],
      "text/plain": [
       "Empty DataFrame\n",
       "Columns: []\n",
       "Index: []"
      ]
     },
     "execution_count": 14,
     "metadata": {},
     "output_type": "execute_result"
    }
   ],
   "source": [
    "%%sql\n",
    "create or replace view ctx_donor_contrib as\n",
    "select ic.*,\n",
    "       ix.donor_indiv_id\n",
    "  from ctx_indiv ix\n",
    "  join indiv_contrib ic on ic.indiv_id = ix.id"
   ]
  },
  {
   "cell_type": "code",
   "execution_count": 15,
   "metadata": {},
   "outputs": [
    {
     "name": "stdout",
     "output_type": "stream",
     "text": [
      " * postgresql+psycopg2://crash@localhost/fecdb\n",
      "2 rows affected.\n"
     ]
    },
    {
     "data": {
      "text/html": [
       "<div>\n",
       "<style scoped>\n",
       "    .dataframe tbody tr th:only-of-type {\n",
       "        vertical-align: middle;\n",
       "    }\n",
       "\n",
       "    .dataframe tbody tr th {\n",
       "        vertical-align: top;\n",
       "    }\n",
       "\n",
       "    .dataframe thead th {\n",
       "        text-align: right;\n",
       "    }\n",
       "</style>\n",
       "<table border=\"1\" class=\"dataframe\">\n",
       "  <thead>\n",
       "    <tr style=\"text-align: right;\">\n",
       "      <th></th>\n",
       "      <th>donor_id</th>\n",
       "      <th>donor_name</th>\n",
       "      <th>contribs</th>\n",
       "      <th>total_amt</th>\n",
       "      <th>elect_cycles</th>\n",
       "    </tr>\n",
       "  </thead>\n",
       "  <tbody>\n",
       "    <tr>\n",
       "      <td>0</td>\n",
       "      <td>10527363</td>\n",
       "      <td>SANDELL, JENNIFER</td>\n",
       "      <td>28</td>\n",
       "      <td>37200.00</td>\n",
       "      <td>[2004, 2006, 2008, 2010, 2016, 2018, 2020]</td>\n",
       "    </tr>\n",
       "    <tr>\n",
       "      <td>1</td>\n",
       "      <td>10527429</td>\n",
       "      <td>SANDELL, SCOTT</td>\n",
       "      <td>73</td>\n",
       "      <td>227250.00</td>\n",
       "      <td>[2000, 2002, 2004, 2006, 2008, 2010, 2012, 201...</td>\n",
       "    </tr>\n",
       "  </tbody>\n",
       "</table>\n",
       "</div>"
      ],
      "text/plain": [
       "   donor_id         donor_name  contribs  total_amt  \\\n",
       "0  10527363  SANDELL, JENNIFER        28   37200.00   \n",
       "1  10527429     SANDELL, SCOTT        73  227250.00   \n",
       "\n",
       "                                        elect_cycles  \n",
       "0         [2004, 2006, 2008, 2010, 2016, 2018, 2020]  \n",
       "1  [2000, 2002, 2004, 2006, 2008, 2010, 2012, 201...  "
      ]
     },
     "execution_count": 15,
     "metadata": {},
     "output_type": "execute_result"
    }
   ],
   "source": [
    "%%sql\n",
    "select d.id                 as donor_id,\n",
    "       d.name               as donor_name,\n",
    "       count(*)             as contribs,\n",
    "       sum(transaction_amt) as total_amt,\n",
    "       array_agg(distinct elect_cycle) as elect_cycles\n",
    "  from ctx_donor_contrib cx\n",
    "  join donor_indiv d on d.id = cx.donor_indiv_id\n",
    " group by 1, 2"
   ]
  }
 ],
 "metadata": {
  "kernelspec": {
   "display_name": "Python 3",
   "language": "python",
   "name": "python3"
  },
  "language_info": {
   "codemirror_mode": {
    "name": "ipython",
    "version": 3
   },
   "file_extension": ".py",
   "mimetype": "text/x-python",
   "name": "python",
   "nbconvert_exporter": "python",
   "pygments_lexer": "ipython3",
   "version": "3.6.8"
  }
 },
 "nbformat": 4,
 "nbformat_minor": 2
}
