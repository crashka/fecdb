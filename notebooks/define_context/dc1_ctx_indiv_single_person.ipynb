{
 "cells": [
  {
   "cell_type": "markdown",
   "metadata": {},
   "source": [
    "# Define Individual Context &ndash; Single Person Use Case #\n",
    "\n",
    "## Overview ##\n",
    "\n",
    "Explore the FEC data by specifying SQL predicates that identify **Individuals**, which are people identities extracted&mdash;and somewhat cleansed&mdash;from the [Individual Contributions](https://www.fec.gov/campaign-finance-data/contributions-individuals-file-description/) file.  Inidividual records (stored in the `indiv` table), are basically distinct combinations of name and address information (city, state, zipcode) that have not been aggressively deduplicated.  Thus, there will be multiple records for a real-world person if there are variants (or typos or deception) in the identifying information for contribution records.\n",
    "\n",
    "Querying by Individual can be used to target all of the `indiv` records (and associated contribution data in `indiv_contrib`) for a single person, or for a set of people to be explored collectively.  An example of the first usage will be presented here (the second will be covered in the subsequent `dc2` notebook).  One of the limitation of Querying by Individual is that it is difficult to distinguish between the contribution of distinct people identities within a result set.\n",
    "\n",
    "Note that this approach will create the following query contexts (each of which may be used in formulating specific queries for investigation or reporting):\n",
    "\n",
    "**Principal Context View**\n",
    "\n",
    "* `ctx_indiv`\n",
    "\n",
    "**Dependent Context Views**\n",
    "\n",
    "* `ctx_indiv_contrib`"
   ]
  },
  {
   "cell_type": "markdown",
   "metadata": {},
   "source": [
    "## Notebook Setup ##\n",
    "\n",
    "### Configure database connect info/options ###\n",
    "\n",
    "Note: database connect string can be specified on the initial `%sql` command:\n",
    "\n",
    "```python\n",
    "database_url = \"postgresql+psycopg2://user@localhost/fecdb\"\n",
    "%sql $database_url\n",
    "\n",
    "```\n",
    "\n",
    "Or, connect string is taken from DATABASE_URL environment variable (if not specified for `%sql`):\n",
    "\n",
    "```python\n",
    "%sql\n",
    "\n",
    "```"
   ]
  },
  {
   "cell_type": "code",
   "execution_count": 1,
   "metadata": {},
   "outputs": [
    {
     "data": {
      "text/plain": [
       "'Connected: crash@fecdb'"
      ]
     },
     "execution_count": 1,
     "metadata": {},
     "output_type": "execute_result"
    }
   ],
   "source": [
    "%load_ext sql\n",
    "%config SqlMagic.autopandas=True\n",
    "%config InteractiveShell.ast_node_interactivity='last_expr_or_assign'\n",
    "# connect string taken from DATABASE_URL environment variable\n",
    "%sql"
   ]
  },
  {
   "cell_type": "markdown",
   "metadata": {},
   "source": [
    "### Clear context ###\n",
    "\n",
    "Note that we drop *all* context views so we won't have any inconsistencies after this notebook is run.  After defining `ctx_indiv` below, we will define all dependent views (see Overview, above), and leave any higher-order or orthogonal views undefined"
   ]
  },
  {
   "cell_type": "code",
   "execution_count": 2,
   "metadata": {},
   "outputs": [
    {
     "name": "stdout",
     "output_type": "stream",
     "text": [
      " * postgresql+psycopg2://crash@localhost/fecdb\n",
      "Done.\n",
      " * postgresql+psycopg2://crash@localhost/fecdb\n",
      "Done.\n",
      " * postgresql+psycopg2://crash@localhost/fecdb\n",
      "Done.\n",
      " * postgresql+psycopg2://crash@localhost/fecdb\n",
      "Done.\n",
      " * postgresql+psycopg2://crash@localhost/fecdb\n",
      "Done.\n",
      " * postgresql+psycopg2://crash@localhost/fecdb\n",
      "Done.\n",
      " * postgresql+psycopg2://crash@localhost/fecdb\n",
      "Done.\n",
      " * postgresql+psycopg2://crash@localhost/fecdb\n",
      "Done.\n",
      " * postgresql+psycopg2://crash@localhost/fecdb\n",
      "Done.\n"
     ]
    },
    {
     "data": {
      "text/html": [
       "<div>\n",
       "<style scoped>\n",
       "    .dataframe tbody tr th:only-of-type {\n",
       "        vertical-align: middle;\n",
       "    }\n",
       "\n",
       "    .dataframe tbody tr th {\n",
       "        vertical-align: top;\n",
       "    }\n",
       "\n",
       "    .dataframe thead th {\n",
       "        text-align: right;\n",
       "    }\n",
       "</style>\n",
       "<table border=\"1\" class=\"dataframe\">\n",
       "  <thead>\n",
       "    <tr style=\"text-align: right;\">\n",
       "      <th></th>\n",
       "    </tr>\n",
       "  </thead>\n",
       "  <tbody>\n",
       "  </tbody>\n",
       "</table>\n",
       "</div>"
      ],
      "text/plain": [
       "Empty DataFrame\n",
       "Columns: []\n",
       "Index: []"
      ]
     },
     "execution_count": 2,
     "metadata": {},
     "output_type": "execute_result"
    }
   ],
   "source": [
    "%sql drop view if exists ctx_dseg_memb     cascade\n",
    "%sql drop view if exists ctx_dseg          cascade\n",
    "%sql drop view if exists ctx_donor_contrib cascade\n",
    "%sql drop view if exists ctx_donor         cascade\n",
    "%sql drop view if exists ctx_household     cascade\n",
    "%sql drop view if exists ctx_iseg_memb     cascade\n",
    "%sql drop view if exists ctx_iseg          cascade\n",
    "%sql drop view if exists ctx_indiv_contrib cascade\n",
    "%sql drop view if exists ctx_indiv         cascade"
   ]
  },
  {
   "cell_type": "markdown",
   "metadata": {},
   "source": [
    "### Set styling ###"
   ]
  },
  {
   "cell_type": "code",
   "execution_count": 3,
   "metadata": {},
   "outputs": [
    {
     "data": {
      "text/html": [
       "<style>\n",
       "  tr, th, td {\n",
       "    text-align: left !important;\n",
       "  }\n",
       "</style>\n"
      ],
      "text/plain": [
       "<IPython.core.display.HTML object>"
      ]
     },
     "metadata": {},
     "output_type": "display_data"
    }
   ],
   "source": [
    "%%html\n",
    "<style>\n",
    "  tr, th, td {\n",
    "    text-align: left !important;\n",
    "  }\n",
    "</style>"
   ]
  },
  {
   "cell_type": "markdown",
   "metadata": {},
   "source": [
    "## Create Principal View (`ctx_indiv`) ##\n",
    "\n",
    "For this use case, we'll identify the `indiv` records associated with an identity that we previously queried (in `el_queries1.sql` and `el_queries3.sql`)"
   ]
  },
  {
   "cell_type": "code",
   "execution_count": 4,
   "metadata": {},
   "outputs": [
    {
     "name": "stdout",
     "output_type": "stream",
     "text": [
      " * postgresql+psycopg2://crash@localhost/fecdb\n",
      "Done.\n"
     ]
    },
    {
     "data": {
      "text/html": [
       "<div>\n",
       "<style scoped>\n",
       "    .dataframe tbody tr th:only-of-type {\n",
       "        vertical-align: middle;\n",
       "    }\n",
       "\n",
       "    .dataframe tbody tr th {\n",
       "        vertical-align: top;\n",
       "    }\n",
       "\n",
       "    .dataframe thead th {\n",
       "        text-align: right;\n",
       "    }\n",
       "</style>\n",
       "<table border=\"1\" class=\"dataframe\">\n",
       "  <thead>\n",
       "    <tr style=\"text-align: right;\">\n",
       "      <th></th>\n",
       "    </tr>\n",
       "  </thead>\n",
       "  <tbody>\n",
       "  </tbody>\n",
       "</table>\n",
       "</div>"
      ],
      "text/plain": [
       "Empty DataFrame\n",
       "Columns: []\n",
       "Index: []"
      ]
     },
     "execution_count": 4,
     "metadata": {},
     "output_type": "execute_result"
    }
   ],
   "source": [
    "%%sql\n",
    "create or replace view ctx_indiv as\n",
    "select *\n",
    "  from indiv\n",
    " where name like 'SANDELL, SCOTT%'\n",
    "   and zip_code ~ '9402[58]'\n",
    "   and name !~ 'MRS\\.'"
   ]
  },
  {
   "cell_type": "markdown",
   "metadata": {},
   "source": [
    "Let's take a quick look at the context we just set (for validation) before proceeding"
   ]
  },
  {
   "cell_type": "code",
   "execution_count": 5,
   "metadata": {},
   "outputs": [
    {
     "name": "stdout",
     "output_type": "stream",
     "text": [
      " * postgresql+psycopg2://crash@localhost/fecdb\n",
      "18 rows affected.\n"
     ]
    },
    {
     "data": {
      "text/html": [
       "<div>\n",
       "<style scoped>\n",
       "    .dataframe tbody tr th:only-of-type {\n",
       "        vertical-align: middle;\n",
       "    }\n",
       "\n",
       "    .dataframe tbody tr th {\n",
       "        vertical-align: top;\n",
       "    }\n",
       "\n",
       "    .dataframe thead th {\n",
       "        text-align: right;\n",
       "    }\n",
       "</style>\n",
       "<table border=\"1\" class=\"dataframe\">\n",
       "  <thead>\n",
       "    <tr style=\"text-align: right;\">\n",
       "      <th></th>\n",
       "      <th>id</th>\n",
       "      <th>name</th>\n",
       "      <th>city</th>\n",
       "      <th>state</th>\n",
       "      <th>zip_code</th>\n",
       "      <th>elect_cycles</th>\n",
       "    </tr>\n",
       "  </thead>\n",
       "  <tbody>\n",
       "    <tr>\n",
       "      <td>0</td>\n",
       "      <td>10527433</td>\n",
       "      <td>SANDELL, SCOTT D</td>\n",
       "      <td>MENLO PARK</td>\n",
       "      <td>CA</td>\n",
       "      <td>94025</td>\n",
       "      <td>[2004, 2006, 2008, 2010]</td>\n",
       "    </tr>\n",
       "    <tr>\n",
       "      <td>1</td>\n",
       "      <td>10527430</td>\n",
       "      <td>SANDELL, SCOTT</td>\n",
       "      <td>MENLO PARK</td>\n",
       "      <td>CA</td>\n",
       "      <td>940257022</td>\n",
       "      <td>[2016, 2018, 2020]</td>\n",
       "    </tr>\n",
       "    <tr>\n",
       "      <td>2</td>\n",
       "      <td>10527429</td>\n",
       "      <td>SANDELL, SCOTT</td>\n",
       "      <td>MENLO PARK</td>\n",
       "      <td>CA</td>\n",
       "      <td>94025</td>\n",
       "      <td>[2000, 2008, 2010, 2012, 2016]</td>\n",
       "    </tr>\n",
       "    <tr>\n",
       "      <td>3</td>\n",
       "      <td>10527435</td>\n",
       "      <td>SANDELL, SCOTT D</td>\n",
       "      <td>MENLO PARK</td>\n",
       "      <td>CA</td>\n",
       "      <td>940257022</td>\n",
       "      <td>[2016]</td>\n",
       "    </tr>\n",
       "    <tr>\n",
       "      <td>4</td>\n",
       "      <td>10527437</td>\n",
       "      <td>SANDELL, SCOTT D</td>\n",
       "      <td>PORTOLA VALLEY</td>\n",
       "      <td>CA</td>\n",
       "      <td>940287608</td>\n",
       "      <td>[2016]</td>\n",
       "    </tr>\n",
       "    <tr>\n",
       "      <td>5</td>\n",
       "      <td>10527445</td>\n",
       "      <td>SANDELL, SCOTT MR.</td>\n",
       "      <td>PORTOLA VALLEY</td>\n",
       "      <td>CA</td>\n",
       "      <td>94028</td>\n",
       "      <td>[2018]</td>\n",
       "    </tr>\n",
       "    <tr>\n",
       "      <td>6</td>\n",
       "      <td>10527438</td>\n",
       "      <td>SANDELL, SCOTT D.</td>\n",
       "      <td>MENLO PARK</td>\n",
       "      <td>CA</td>\n",
       "      <td>94025</td>\n",
       "      <td>[2010]</td>\n",
       "    </tr>\n",
       "    <tr>\n",
       "      <td>7</td>\n",
       "      <td>10527431</td>\n",
       "      <td>SANDELL, SCOTT</td>\n",
       "      <td>PORTOLA VALLEY</td>\n",
       "      <td>CA</td>\n",
       "      <td>94028</td>\n",
       "      <td>[2010, 2016]</td>\n",
       "    </tr>\n",
       "    <tr>\n",
       "      <td>8</td>\n",
       "      <td>10527434</td>\n",
       "      <td>SANDELL, SCOTT D</td>\n",
       "      <td>MENLO PARK</td>\n",
       "      <td>CA</td>\n",
       "      <td>940256112</td>\n",
       "      <td>[2014]</td>\n",
       "    </tr>\n",
       "    <tr>\n",
       "      <td>9</td>\n",
       "      <td>10527441</td>\n",
       "      <td>SANDELL, SCOTT D. MR.</td>\n",
       "      <td>MENLO PARK</td>\n",
       "      <td>CA</td>\n",
       "      <td>94025</td>\n",
       "      <td>[2000, 2008, 2010, 2012]</td>\n",
       "    </tr>\n",
       "    <tr>\n",
       "      <td>10</td>\n",
       "      <td>10527444</td>\n",
       "      <td>SANDELL, SCOTT MR.</td>\n",
       "      <td>MENLO PARK</td>\n",
       "      <td>CA</td>\n",
       "      <td>940257022</td>\n",
       "      <td>[2018, 2020]</td>\n",
       "    </tr>\n",
       "    <tr>\n",
       "      <td>11</td>\n",
       "      <td>10527443</td>\n",
       "      <td>SANDELL, SCOTT MR.</td>\n",
       "      <td>MENLO PARK</td>\n",
       "      <td>CA</td>\n",
       "      <td>940256940</td>\n",
       "      <td>[2004, 2006]</td>\n",
       "    </tr>\n",
       "    <tr>\n",
       "      <td>12</td>\n",
       "      <td>10527432</td>\n",
       "      <td>SANDELL, SCOTT</td>\n",
       "      <td>PORTOLA VALLEY</td>\n",
       "      <td>CA</td>\n",
       "      <td>940287608</td>\n",
       "      <td>[2016]</td>\n",
       "    </tr>\n",
       "    <tr>\n",
       "      <td>13</td>\n",
       "      <td>10527436</td>\n",
       "      <td>SANDELL, SCOTT D</td>\n",
       "      <td>PORTOLA VALLEY</td>\n",
       "      <td>CA</td>\n",
       "      <td>94028</td>\n",
       "      <td>[2012]</td>\n",
       "    </tr>\n",
       "    <tr>\n",
       "      <td>14</td>\n",
       "      <td>10527440</td>\n",
       "      <td>SANDELL, SCOTT D.</td>\n",
       "      <td>PORTOLA VALLEY</td>\n",
       "      <td>CA</td>\n",
       "      <td>94028</td>\n",
       "      <td>[2016]</td>\n",
       "    </tr>\n",
       "    <tr>\n",
       "      <td>15</td>\n",
       "      <td>10527446</td>\n",
       "      <td>SANDELL, SCOTT MR.</td>\n",
       "      <td>PORTOLA VALLEY</td>\n",
       "      <td>CA</td>\n",
       "      <td>940287608</td>\n",
       "      <td>[2018]</td>\n",
       "    </tr>\n",
       "    <tr>\n",
       "      <td>16</td>\n",
       "      <td>10527439</td>\n",
       "      <td>SANDELL, SCOTT D.</td>\n",
       "      <td>MENLO PARK</td>\n",
       "      <td>CA</td>\n",
       "      <td>940257022</td>\n",
       "      <td>[2018]</td>\n",
       "    </tr>\n",
       "    <tr>\n",
       "      <td>17</td>\n",
       "      <td>10527442</td>\n",
       "      <td>SANDELL, SCOTT MR.</td>\n",
       "      <td>MENLO PARK</td>\n",
       "      <td>CA</td>\n",
       "      <td>94025</td>\n",
       "      <td>[2000, 2002, 2004, 2006]</td>\n",
       "    </tr>\n",
       "  </tbody>\n",
       "</table>\n",
       "</div>"
      ],
      "text/plain": [
       "          id                   name            city state   zip_code  \\\n",
       "0   10527433       SANDELL, SCOTT D      MENLO PARK    CA      94025   \n",
       "1   10527430         SANDELL, SCOTT      MENLO PARK    CA  940257022   \n",
       "2   10527429         SANDELL, SCOTT      MENLO PARK    CA      94025   \n",
       "3   10527435       SANDELL, SCOTT D      MENLO PARK    CA  940257022   \n",
       "4   10527437       SANDELL, SCOTT D  PORTOLA VALLEY    CA  940287608   \n",
       "5   10527445     SANDELL, SCOTT MR.  PORTOLA VALLEY    CA      94028   \n",
       "6   10527438      SANDELL, SCOTT D.      MENLO PARK    CA      94025   \n",
       "7   10527431         SANDELL, SCOTT  PORTOLA VALLEY    CA      94028   \n",
       "8   10527434       SANDELL, SCOTT D      MENLO PARK    CA  940256112   \n",
       "9   10527441  SANDELL, SCOTT D. MR.      MENLO PARK    CA      94025   \n",
       "10  10527444     SANDELL, SCOTT MR.      MENLO PARK    CA  940257022   \n",
       "11  10527443     SANDELL, SCOTT MR.      MENLO PARK    CA  940256940   \n",
       "12  10527432         SANDELL, SCOTT  PORTOLA VALLEY    CA  940287608   \n",
       "13  10527436       SANDELL, SCOTT D  PORTOLA VALLEY    CA      94028   \n",
       "14  10527440      SANDELL, SCOTT D.  PORTOLA VALLEY    CA      94028   \n",
       "15  10527446     SANDELL, SCOTT MR.  PORTOLA VALLEY    CA  940287608   \n",
       "16  10527439      SANDELL, SCOTT D.      MENLO PARK    CA  940257022   \n",
       "17  10527442     SANDELL, SCOTT MR.      MENLO PARK    CA      94025   \n",
       "\n",
       "                      elect_cycles  \n",
       "0         [2004, 2006, 2008, 2010]  \n",
       "1               [2016, 2018, 2020]  \n",
       "2   [2000, 2008, 2010, 2012, 2016]  \n",
       "3                           [2016]  \n",
       "4                           [2016]  \n",
       "5                           [2018]  \n",
       "6                           [2010]  \n",
       "7                     [2010, 2016]  \n",
       "8                           [2014]  \n",
       "9         [2000, 2008, 2010, 2012]  \n",
       "10                    [2018, 2020]  \n",
       "11                    [2004, 2006]  \n",
       "12                          [2016]  \n",
       "13                          [2012]  \n",
       "14                          [2016]  \n",
       "15                          [2018]  \n",
       "16                          [2018]  \n",
       "17        [2000, 2002, 2004, 2006]  "
      ]
     },
     "execution_count": 5,
     "metadata": {},
     "output_type": "execute_result"
    }
   ],
   "source": [
    "%%sql\n",
    "select id,\n",
    "       name,\n",
    "       city,\n",
    "       state,\n",
    "       zip_code,\n",
    "       elect_cycles\n",
    "  from ctx_indiv"
   ]
  },
  {
   "cell_type": "markdown",
   "metadata": {},
   "source": [
    "## Create Dependent Views ##\n",
    "\n",
    "### Create `ctx_indiv_contrib` ###\n",
    "\n",
    "Now we'll create the context view for the contributions from the targeted \"Individual\" records"
   ]
  },
  {
   "cell_type": "code",
   "execution_count": 6,
   "metadata": {},
   "outputs": [
    {
     "name": "stdout",
     "output_type": "stream",
     "text": [
      " * postgresql+psycopg2://crash@localhost/fecdb\n",
      "Done.\n"
     ]
    },
    {
     "data": {
      "text/html": [
       "<div>\n",
       "<style scoped>\n",
       "    .dataframe tbody tr th:only-of-type {\n",
       "        vertical-align: middle;\n",
       "    }\n",
       "\n",
       "    .dataframe tbody tr th {\n",
       "        vertical-align: top;\n",
       "    }\n",
       "\n",
       "    .dataframe thead th {\n",
       "        text-align: right;\n",
       "    }\n",
       "</style>\n",
       "<table border=\"1\" class=\"dataframe\">\n",
       "  <thead>\n",
       "    <tr style=\"text-align: right;\">\n",
       "      <th></th>\n",
       "    </tr>\n",
       "  </thead>\n",
       "  <tbody>\n",
       "  </tbody>\n",
       "</table>\n",
       "</div>"
      ],
      "text/plain": [
       "Empty DataFrame\n",
       "Columns: []\n",
       "Index: []"
      ]
     },
     "execution_count": 6,
     "metadata": {},
     "output_type": "execute_result"
    }
   ],
   "source": [
    "%%sql\n",
    "create or replace view ctx_indiv_contrib as\n",
    "select ic.*\n",
    "  from ctx_indiv ix\n",
    "  join indiv_contrib ic on ic.indiv_id = ix.id"
   ]
  },
  {
   "cell_type": "markdown",
   "metadata": {},
   "source": [
    "And some quick validation on the view"
   ]
  },
  {
   "cell_type": "code",
   "execution_count": 7,
   "metadata": {},
   "outputs": [
    {
     "name": "stdout",
     "output_type": "stream",
     "text": [
      " * postgresql+psycopg2://crash@localhost/fecdb\n",
      "1 rows affected.\n"
     ]
    },
    {
     "data": {
      "text/html": [
       "<div>\n",
       "<style scoped>\n",
       "    .dataframe tbody tr th:only-of-type {\n",
       "        vertical-align: middle;\n",
       "    }\n",
       "\n",
       "    .dataframe tbody tr th {\n",
       "        vertical-align: top;\n",
       "    }\n",
       "\n",
       "    .dataframe thead th {\n",
       "        text-align: right;\n",
       "    }\n",
       "</style>\n",
       "<table border=\"1\" class=\"dataframe\">\n",
       "  <thead>\n",
       "    <tr style=\"text-align: right;\">\n",
       "      <th></th>\n",
       "      <th>contribs</th>\n",
       "      <th>total_amt</th>\n",
       "      <th>elect_cycles</th>\n",
       "    </tr>\n",
       "  </thead>\n",
       "  <tbody>\n",
       "    <tr>\n",
       "      <td>0</td>\n",
       "      <td>73</td>\n",
       "      <td>227250.00</td>\n",
       "      <td>[2000, 2002, 2004, 2006, 2008, 2010, 2012, 201...</td>\n",
       "    </tr>\n",
       "  </tbody>\n",
       "</table>\n",
       "</div>"
      ],
      "text/plain": [
       "   contribs  total_amt                                       elect_cycles\n",
       "0        73  227250.00  [2000, 2002, 2004, 2006, 2008, 2010, 2012, 201..."
      ]
     },
     "execution_count": 7,
     "metadata": {},
     "output_type": "execute_result"
    }
   ],
   "source": [
    "%%sql\n",
    "select count(*)             as contribs,\n",
    "       sum(transaction_amt) as total_amt,\n",
    "       array_agg(distinct elect_cycle) as elect_cycles\n",
    "  from ctx_indiv_contrib"
   ]
  }
 ],
 "metadata": {
  "kernelspec": {
   "display_name": "Python 3",
   "language": "python",
   "name": "python3"
  },
  "language_info": {
   "codemirror_mode": {
    "name": "ipython",
    "version": 3
   },
   "file_extension": ".py",
   "mimetype": "text/x-python",
   "name": "python",
   "nbconvert_exporter": "python",
   "pygments_lexer": "ipython3",
   "version": "3.6.8"
  }
 },
 "nbformat": 4,
 "nbformat_minor": 4
}
