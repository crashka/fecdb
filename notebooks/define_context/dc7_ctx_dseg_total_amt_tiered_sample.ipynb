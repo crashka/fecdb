{
 "cells": [
  {
   "cell_type": "markdown",
   "metadata": {},
   "source": [
    "# Define Donor Segment Context &ndash; Total (Giving) Amount Tiered Sample #\n",
    "\n",
    "## Overview ##\n",
    "\n",
    "Explore the FEC data by specifying SQL predicates that identify **Donor Segments**, which are static lists of Donor (`donor_indiv` view) records.  Note that a Donor Segment context may including one *or more* segments (e.g. by name or ID).  As with Donor contexts, Donor identities ***are*** discernible within queries using this context type.\n",
    "\n",
    "For this notebook, we will create Donor Segments containing a sampling of Donors from various tiers of total contribution amounts.  We can then create a Donor Segment context based on one or more of those Donor Segments (cf. the single-segment example in `dc6`).  We use the same simple scheme for grouping Individuals into Donors as described in `dc6`.\n",
    "\n",
    "This approach will create the following query contexts:\n",
    "\n",
    "**Principal Context View**\n",
    "\n",
    "* `ctx_dseg`\n",
    "\n",
    "**Dependent Context Views**\n",
    "\n",
    "* `ctx_dseg_memb`\n",
    "* `ctx_donor`\n",
    "* `ctx_indiv`\n",
    "* `ctx_indiv_contrib`\n",
    "* `ctx_donor_contrib`"
   ]
  },
  {
   "cell_type": "markdown",
   "metadata": {},
   "source": [
    "## Notebook Setup ##\n",
    "\n",
    "### Configure database connect info/options ###\n",
    "\n",
    "Note: database connect string can be specified on the initial `%sql` command:\n",
    "\n",
    "```python\n",
    "database_url = \"postgresql+psycopg2://user@localhost/fecdb\"\n",
    "%sql $database_url\n",
    "\n",
    "```\n",
    "\n",
    "Or, connect string is taken from DATABASE_URL environment variable (if not specified for `%sql`):\n",
    "\n",
    "```python\n",
    "%sql\n",
    "\n",
    "```"
   ]
  },
  {
   "cell_type": "code",
   "execution_count": 1,
   "metadata": {},
   "outputs": [
    {
     "data": {
      "text/plain": [
       "'Connected: crash@fecdb'"
      ]
     },
     "execution_count": 1,
     "metadata": {},
     "output_type": "execute_result"
    }
   ],
   "source": [
    "%load_ext sql\n",
    "%config SqlMagic.autopandas=True\n",
    "%config InteractiveShell.ast_node_interactivity='last_expr_or_assign'\n",
    "# connect string taken from DATABASE_URL environment variable\n",
    "%sql"
   ]
  },
  {
   "cell_type": "markdown",
   "metadata": {},
   "source": [
    "### Clear context ###\n",
    "\n",
    "Note that we drop *all* context views so we won't have any inconsistencies after this notebook is run.  After defining `ctx_indiv` below, we will define all dependent views (see Overview, above), and leave any higher-order or orthogonal views undefined"
   ]
  },
  {
   "cell_type": "code",
   "execution_count": 2,
   "metadata": {},
   "outputs": [
    {
     "name": "stdout",
     "output_type": "stream",
     "text": [
      " * postgresql+psycopg2://crash@localhost/fecdb\n",
      "Done.\n",
      " * postgresql+psycopg2://crash@localhost/fecdb\n",
      "Done.\n",
      " * postgresql+psycopg2://crash@localhost/fecdb\n",
      "Done.\n",
      " * postgresql+psycopg2://crash@localhost/fecdb\n",
      "Done.\n",
      " * postgresql+psycopg2://crash@localhost/fecdb\n",
      "Done.\n",
      " * postgresql+psycopg2://crash@localhost/fecdb\n",
      "Done.\n",
      " * postgresql+psycopg2://crash@localhost/fecdb\n",
      "Done.\n",
      " * postgresql+psycopg2://crash@localhost/fecdb\n",
      "Done.\n",
      " * postgresql+psycopg2://crash@localhost/fecdb\n",
      "Done.\n"
     ]
    },
    {
     "data": {
      "text/html": [
       "<div>\n",
       "<style scoped>\n",
       "    .dataframe tbody tr th:only-of-type {\n",
       "        vertical-align: middle;\n",
       "    }\n",
       "\n",
       "    .dataframe tbody tr th {\n",
       "        vertical-align: top;\n",
       "    }\n",
       "\n",
       "    .dataframe thead th {\n",
       "        text-align: right;\n",
       "    }\n",
       "</style>\n",
       "<table border=\"1\" class=\"dataframe\">\n",
       "  <thead>\n",
       "    <tr style=\"text-align: right;\">\n",
       "      <th></th>\n",
       "    </tr>\n",
       "  </thead>\n",
       "  <tbody>\n",
       "  </tbody>\n",
       "</table>\n",
       "</div>"
      ],
      "text/plain": [
       "Empty DataFrame\n",
       "Columns: []\n",
       "Index: []"
      ]
     },
     "execution_count": 2,
     "metadata": {},
     "output_type": "execute_result"
    }
   ],
   "source": [
    "%sql drop view if exists ctx_dseg_memb     cascade\n",
    "%sql drop view if exists ctx_dseg          cascade\n",
    "%sql drop view if exists ctx_donor_contrib cascade\n",
    "%sql drop view if exists ctx_donor         cascade\n",
    "%sql drop view if exists ctx_household     cascade\n",
    "%sql drop view if exists ctx_iseg_memb     cascade\n",
    "%sql drop view if exists ctx_iseg          cascade\n",
    "%sql drop view if exists ctx_indiv_contrib cascade\n",
    "%sql drop view if exists ctx_indiv         cascade"
   ]
  },
  {
   "cell_type": "markdown",
   "metadata": {},
   "source": [
    "### Set styling ###"
   ]
  },
  {
   "cell_type": "code",
   "execution_count": 3,
   "metadata": {},
   "outputs": [
    {
     "data": {
      "text/html": [
       "<style>\n",
       "  tr, th, td {\n",
       "    text-align: left !important;\n",
       "  }\n",
       "</style>\n"
      ],
      "text/plain": [
       "<IPython.core.display.HTML object>"
      ]
     },
     "metadata": {},
     "output_type": "display_data"
    }
   ],
   "source": [
    "%%html\n",
    "<style>\n",
    "  tr, th, td {\n",
    "    text-align: left !important;\n",
    "  }\n",
    "</style>"
   ]
  },
  {
   "cell_type": "markdown",
   "metadata": {},
   "source": [
    "## Create Donor Segments for Tiered Total Contribution (Sample Donors) ##\n",
    "\n",
    "Clear out the segment and underlying view(s) used below, if previously created.\n",
    "\n",
    "For now, let's leave `indiv_group` in place, if existing (i.e. created by `dc6`), since it's kind of expensive to materialize and isn't going to be changing on us at this point (since it is really just a stand-in for more sophistocated logic to come)."
   ]
  },
  {
   "cell_type": "code",
   "execution_count": 4,
   "metadata": {},
   "outputs": [
    {
     "name": "stdout",
     "output_type": "stream",
     "text": [
      " * postgresql+psycopg2://crash@localhost/fecdb\n",
      "15 rows affected.\n",
      " * postgresql+psycopg2://crash@localhost/fecdb\n",
      "Done.\n",
      " * postgresql+psycopg2://crash@localhost/fecdb\n",
      "Done.\n"
     ]
    },
    {
     "data": {
      "text/html": [
       "<div>\n",
       "<style scoped>\n",
       "    .dataframe tbody tr th:only-of-type {\n",
       "        vertical-align: middle;\n",
       "    }\n",
       "\n",
       "    .dataframe tbody tr th {\n",
       "        vertical-align: top;\n",
       "    }\n",
       "\n",
       "    .dataframe thead th {\n",
       "        text-align: right;\n",
       "    }\n",
       "</style>\n",
       "<table border=\"1\" class=\"dataframe\">\n",
       "  <thead>\n",
       "    <tr style=\"text-align: right;\">\n",
       "      <th></th>\n",
       "    </tr>\n",
       "  </thead>\n",
       "  <tbody>\n",
       "  </tbody>\n",
       "</table>\n",
       "</div>"
      ],
      "text/plain": [
       "Empty DataFrame\n",
       "Columns: []\n",
       "Index: []"
      ]
     },
     "execution_count": 4,
     "metadata": {},
     "output_type": "execute_result"
    }
   ],
   "source": [
    "%sql delete from donor_seg where name ~ '^\\$[0-9].*\\+ donors$'\n",
    "%sql drop table if exists total_amt_seg_def       cascade\n",
    "%sql drop materialized view if exists donor_sum   cascade\n",
    "#%sql drop materialized view if exists indiv_group cascade"
   ]
  },
  {
   "cell_type": "markdown",
   "metadata": {},
   "source": [
    "As stated above, we will re-use the current definition/contents of this view, if previously created (see `dc6` for a description of the logic of this view definition)."
   ]
  },
  {
   "cell_type": "code",
   "execution_count": 5,
   "metadata": {},
   "outputs": [
    {
     "name": "stdout",
     "output_type": "stream",
     "text": [
      " * postgresql+psycopg2://crash@localhost/fecdb\n",
      "Done.\n"
     ]
    },
    {
     "data": {
      "text/html": [
       "<div>\n",
       "<style scoped>\n",
       "    .dataframe tbody tr th:only-of-type {\n",
       "        vertical-align: middle;\n",
       "    }\n",
       "\n",
       "    .dataframe tbody tr th {\n",
       "        vertical-align: top;\n",
       "    }\n",
       "\n",
       "    .dataframe thead th {\n",
       "        text-align: right;\n",
       "    }\n",
       "</style>\n",
       "<table border=\"1\" class=\"dataframe\">\n",
       "  <thead>\n",
       "    <tr style=\"text-align: right;\">\n",
       "      <th></th>\n",
       "    </tr>\n",
       "  </thead>\n",
       "  <tbody>\n",
       "  </tbody>\n",
       "</table>\n",
       "</div>"
      ],
      "text/plain": [
       "Empty DataFrame\n",
       "Columns: []\n",
       "Index: []"
      ]
     },
     "execution_count": 5,
     "metadata": {},
     "output_type": "execute_result"
    }
   ],
   "source": [
    "%%sql\n",
    "create materialized view if not exists indiv_group as\n",
    "select ip.part1                  as last_name,\n",
    "       substr(ip.part2, 1, 3)    as first_name_pfx,\n",
    "       substr(ip.zip_code, 1, 3) as zip_pfx,\n",
    "       count(distinct ip.id)     as indivs,\n",
    "       array_agg(distinct ip.id) as indiv_ids\n",
    "  from indiv_parsed ip\n",
    " where ip.name ~ '^[A-Z][^,]'\n",
    "   and ip.zip_code is not null\n",
    "   and ip.num_parts > 1\n",
    "   and ip.part1 !~ ' '\n",
    " group by 1, 2, 3"
   ]
  },
  {
   "cell_type": "markdown",
   "metadata": {},
   "source": [
    "As in `dc6`, we now create a view summarizing the contributions of the Individual groupings (i.e. the approximation of Donors) created above, except we include *all* Individual Contributions here.  The aggregation for each \"Donor\" includes the list of consolidated `indiv_id` keys, the total number of contributions, and the total and average amounts.\n",
    "\n",
    "SQL design note: not obvious whether it is better to re-aggregate the unnested ids (even though we are not able to omit the `distinct` qualifier), or select `ig.indiv_ids` and add to GROUP BY clause&mdash;voting for the former option right now."
   ]
  },
  {
   "cell_type": "code",
   "execution_count": 6,
   "metadata": {},
   "outputs": [
    {
     "name": "stdout",
     "output_type": "stream",
     "text": [
      " * postgresql+psycopg2://crash@localhost/fecdb\n",
      "6738578 rows affected.\n"
     ]
    },
    {
     "data": {
      "text/html": [
       "<div>\n",
       "<style scoped>\n",
       "    .dataframe tbody tr th:only-of-type {\n",
       "        vertical-align: middle;\n",
       "    }\n",
       "\n",
       "    .dataframe tbody tr th {\n",
       "        vertical-align: top;\n",
       "    }\n",
       "\n",
       "    .dataframe thead th {\n",
       "        text-align: right;\n",
       "    }\n",
       "</style>\n",
       "<table border=\"1\" class=\"dataframe\">\n",
       "  <thead>\n",
       "    <tr style=\"text-align: right;\">\n",
       "      <th></th>\n",
       "    </tr>\n",
       "  </thead>\n",
       "  <tbody>\n",
       "  </tbody>\n",
       "</table>\n",
       "</div>"
      ],
      "text/plain": [
       "Empty DataFrame\n",
       "Columns: []\n",
       "Index: []"
      ]
     },
     "execution_count": 6,
     "metadata": {},
     "output_type": "execute_result"
    }
   ],
   "source": [
    "%%sql\n",
    "create materialized view donor_sum as\n",
    "with indiv_group_memb as (\n",
    "    select ig.last_name,\n",
    "           ig.first_name_pfx,\n",
    "           ig.zip_pfx,\n",
    "           --ig.indiv_ids,\n",
    "           unnest(ig.indiv_ids) as indiv_id\n",
    "      from indiv_group ig\n",
    ")\n",
    "select igm.last_name,\n",
    "       igm.first_name_pfx,\n",
    "       igm.zip_pfx,\n",
    "       array_agg(distinct igm.indiv_id)\n",
    "                                 as indiv_ids,\n",
    "       count(ic.transaction_amt) as contribs,\n",
    "       sum(ic.transaction_amt)   as total_amt,\n",
    "       round(sum(ic.transaction_amt) / count(ic.transaction_amt), 2)\n",
    "                                 as avg_amt\n",
    "  from indiv_group_memb igm\n",
    "  join indiv_contrib ic on ic.indiv_id = igm.indiv_id\n",
    " group by 1, 2, 3"
   ]
  },
  {
   "cell_type": "markdown",
   "metadata": {},
   "source": [
    "Create a couple of indexes for performance."
   ]
  },
  {
   "cell_type": "code",
   "execution_count": 7,
   "metadata": {},
   "outputs": [
    {
     "name": "stdout",
     "output_type": "stream",
     "text": [
      " * postgresql+psycopg2://crash@localhost/fecdb\n",
      "Done.\n",
      " * postgresql+psycopg2://crash@localhost/fecdb\n",
      "Done.\n"
     ]
    },
    {
     "data": {
      "text/html": [
       "<div>\n",
       "<style scoped>\n",
       "    .dataframe tbody tr th:only-of-type {\n",
       "        vertical-align: middle;\n",
       "    }\n",
       "\n",
       "    .dataframe tbody tr th {\n",
       "        vertical-align: top;\n",
       "    }\n",
       "\n",
       "    .dataframe thead th {\n",
       "        text-align: right;\n",
       "    }\n",
       "</style>\n",
       "<table border=\"1\" class=\"dataframe\">\n",
       "  <thead>\n",
       "    <tr style=\"text-align: right;\">\n",
       "      <th></th>\n",
       "    </tr>\n",
       "  </thead>\n",
       "  <tbody>\n",
       "  </tbody>\n",
       "</table>\n",
       "</div>"
      ],
      "text/plain": [
       "Empty DataFrame\n",
       "Columns: []\n",
       "Index: []"
      ]
     },
     "execution_count": 7,
     "metadata": {},
     "output_type": "execute_result"
    }
   ],
   "source": [
    "%sql create index donor_sum_total_amt on donor_sum (total_amt)\n",
    "%sql create index donor_sum_avg_amt on donor_sum (avg_amt)"
   ]
  },
  {
   "cell_type": "markdown",
   "metadata": {},
   "source": [
    "We need to record the total number of \"Donor\" records, total number of contributions, and total contribution amount in `donor_sum` for the cumulative stats below."
   ]
  },
  {
   "cell_type": "code",
   "execution_count": 8,
   "metadata": {},
   "outputs": [
    {
     "name": "stdout",
     "output_type": "stream",
     "text": [
      " * postgresql+psycopg2://crash@localhost/fecdb\n",
      "1 rows affected.\n",
      "Returning data to local variable result\n"
     ]
    }
   ],
   "source": [
    "%%sql result <<\n",
    "select count(*)       as num_donors,\n",
    "       sum(contribs)  as sum_contribs,\n",
    "       sum(total_amt) as sum_total_amt\n",
    "  from donor_sum"
   ]
  },
  {
   "cell_type": "code",
   "execution_count": 9,
   "metadata": {},
   "outputs": [
    {
     "data": {
      "text/plain": [
       "61967790"
      ]
     },
     "execution_count": 9,
     "metadata": {},
     "output_type": "execute_result"
    }
   ],
   "source": [
    "(num_donors, sum_contribs, sum_total_amt) = result.loc[0]\n",
    "# cast from numpy.int64, where needed\n",
    "num_donors = int(num_donors)\n",
    "sum_contribs = int(sum_contribs)"
   ]
  },
  {
   "cell_type": "markdown",
   "metadata": {},
   "source": [
    "Let's format the results for easier inspection."
   ]
  },
  {
   "cell_type": "code",
   "execution_count": 10,
   "metadata": {
    "scrolled": true
   },
   "outputs": [
    {
     "name": "stdout",
     "output_type": "stream",
     "text": [
      " * postgresql+psycopg2://crash@localhost/fecdb\n",
      "1 rows affected.\n"
     ]
    },
    {
     "data": {
      "text/html": [
       "<div>\n",
       "<style scoped>\n",
       "    .dataframe tbody tr th:only-of-type {\n",
       "        vertical-align: middle;\n",
       "    }\n",
       "\n",
       "    .dataframe tbody tr th {\n",
       "        vertical-align: top;\n",
       "    }\n",
       "\n",
       "    .dataframe thead th {\n",
       "        text-align: right;\n",
       "    }\n",
       "</style>\n",
       "<table border=\"1\" class=\"dataframe\">\n",
       "  <thead>\n",
       "    <tr style=\"text-align: right;\">\n",
       "      <th></th>\n",
       "      <th>num_donors</th>\n",
       "      <th>sum_contribs</th>\n",
       "      <th>sum_total_amt</th>\n",
       "    </tr>\n",
       "  </thead>\n",
       "  <tbody>\n",
       "    <tr>\n",
       "      <td>0</td>\n",
       "      <td>6,738,578</td>\n",
       "      <td>61,967,790</td>\n",
       "      <td>27,462,347,087.00</td>\n",
       "    </tr>\n",
       "  </tbody>\n",
       "</table>\n",
       "</div>"
      ],
      "text/plain": [
       "     num_donors  sum_contribs        sum_total_amt\n",
       "0     6,738,578    61,967,790    27,462,347,087.00"
      ]
     },
     "execution_count": 10,
     "metadata": {},
     "output_type": "execute_result"
    }
   ],
   "source": [
    "%%sql\n",
    "select to_char(:num_donors,    '999,999,999')        as num_donors,\n",
    "       to_char(:sum_contribs,  '999,999,999')        as sum_contribs,\n",
    "       to_char(:sum_total_amt, '999,999,999,999.99') as sum_total_amt"
   ]
  },
  {
   "cell_type": "markdown",
   "metadata": {},
   "source": [
    "Note that the previous totals only consider the contributions tied to the Individuals included in `donor_sum`.  For perspective, we'll show to percentages of those relative to all contributions in `indiv_contrib`."
   ]
  },
  {
   "cell_type": "code",
   "execution_count": 11,
   "metadata": {},
   "outputs": [
    {
     "name": "stdout",
     "output_type": "stream",
     "text": [
      " * postgresql+psycopg2://crash@localhost/fecdb\n",
      "1 rows affected.\n"
     ]
    },
    {
     "data": {
      "text/html": [
       "<div>\n",
       "<style scoped>\n",
       "    .dataframe tbody tr th:only-of-type {\n",
       "        vertical-align: middle;\n",
       "    }\n",
       "\n",
       "    .dataframe tbody tr th {\n",
       "        vertical-align: top;\n",
       "    }\n",
       "\n",
       "    .dataframe thead th {\n",
       "        text-align: right;\n",
       "    }\n",
       "</style>\n",
       "<table border=\"1\" class=\"dataframe\">\n",
       "  <thead>\n",
       "    <tr style=\"text-align: right;\">\n",
       "      <th></th>\n",
       "      <th>pct_contribs</th>\n",
       "      <th>pct_total_amt</th>\n",
       "    </tr>\n",
       "  </thead>\n",
       "  <tbody>\n",
       "    <tr>\n",
       "      <td>0</td>\n",
       "      <td>97.81</td>\n",
       "      <td>87.50</td>\n",
       "    </tr>\n",
       "  </tbody>\n",
       "</table>\n",
       "</div>"
      ],
      "text/plain": [
       "  pct_contribs pct_total_amt\n",
       "0        97.81         87.50"
      ]
     },
     "execution_count": 11,
     "metadata": {},
     "output_type": "execute_result"
    }
   ],
   "source": [
    "%%sql\n",
    "select round(round(:sum_contribs, 0) / count(*) * 100.0, 2)    as pct_contribs,\n",
    "       round(:sum_total_amt / sum(transaction_amt) * 100.0, 2) as pct_total_amt\n",
    "  from indiv_contrib"
   ]
  },
  {
   "cell_type": "markdown",
   "metadata": {},
   "source": [
    "Enumerate the cutoff amounts (for total contributions) that define the boundaries between the segments to create."
   ]
  },
  {
   "cell_type": "code",
   "execution_count": 12,
   "metadata": {
    "scrolled": true
   },
   "outputs": [
    {
     "name": "stdout",
     "output_type": "stream",
     "text": [
      " * postgresql+psycopg2://crash@localhost/fecdb\n",
      "15 rows affected.\n"
     ]
    },
    {
     "data": {
      "text/html": [
       "<div>\n",
       "<style scoped>\n",
       "    .dataframe tbody tr th:only-of-type {\n",
       "        vertical-align: middle;\n",
       "    }\n",
       "\n",
       "    .dataframe tbody tr th {\n",
       "        vertical-align: top;\n",
       "    }\n",
       "\n",
       "    .dataframe thead th {\n",
       "        text-align: right;\n",
       "    }\n",
       "</style>\n",
       "<table border=\"1\" class=\"dataframe\">\n",
       "  <thead>\n",
       "    <tr style=\"text-align: right;\">\n",
       "      <th></th>\n",
       "    </tr>\n",
       "  </thead>\n",
       "  <tbody>\n",
       "  </tbody>\n",
       "</table>\n",
       "</div>"
      ],
      "text/plain": [
       "Empty DataFrame\n",
       "Columns: []\n",
       "Index: []"
      ]
     },
     "execution_count": 12,
     "metadata": {},
     "output_type": "execute_result"
    }
   ],
   "source": [
    "%%sql\n",
    "create temporary table total_amt_seg_def as\n",
    "select unnest(array[100000000,\n",
    "                    50000000,\n",
    "                    10000000,\n",
    "                    5000000,\n",
    "                    1000000,\n",
    "                    500000,\n",
    "                    100000,\n",
    "                    50000,\n",
    "                    10000,\n",
    "                    5000,\n",
    "                    2500,\n",
    "                    1000,\n",
    "                    500,\n",
    "                    250,\n",
    "                    0]) as seg_amt"
   ]
  },
  {
   "cell_type": "markdown",
   "metadata": {},
   "source": [
    "For fun, let's take a look at the number of Donor who have given above each of the threshold amounts we just defined, as well as the percentage of Donors they represent, and a percentage of contribution amount they have given.  Note the percentages are relative to the membership of the `donor_sum` view (and not all contributions), as stated above."
   ]
  },
  {
   "cell_type": "code",
   "execution_count": 13,
   "metadata": {},
   "outputs": [
    {
     "name": "stdout",
     "output_type": "stream",
     "text": [
      " * postgresql+psycopg2://crash@localhost/fecdb\n",
      "15 rows affected.\n"
     ]
    },
    {
     "data": {
      "text/html": [
       "<div>\n",
       "<style scoped>\n",
       "    .dataframe tbody tr th:only-of-type {\n",
       "        vertical-align: middle;\n",
       "    }\n",
       "\n",
       "    .dataframe tbody tr th {\n",
       "        vertical-align: top;\n",
       "    }\n",
       "\n",
       "    .dataframe thead th {\n",
       "        text-align: right;\n",
       "    }\n",
       "</style>\n",
       "<table border=\"1\" class=\"dataframe\">\n",
       "  <thead>\n",
       "    <tr style=\"text-align: right;\">\n",
       "      <th></th>\n",
       "      <th>seg_amt</th>\n",
       "      <th>donors</th>\n",
       "      <th>pct_donors</th>\n",
       "      <th>total_amt</th>\n",
       "      <th>pct_total_amt</th>\n",
       "    </tr>\n",
       "  </thead>\n",
       "  <tbody>\n",
       "    <tr>\n",
       "      <td>0</td>\n",
       "      <td>100000000</td>\n",
       "      <td>4</td>\n",
       "      <td>0.00</td>\n",
       "      <td>732484158.00</td>\n",
       "      <td>2.7</td>\n",
       "    </tr>\n",
       "    <tr>\n",
       "      <td>1</td>\n",
       "      <td>50000000</td>\n",
       "      <td>10</td>\n",
       "      <td>0.00</td>\n",
       "      <td>1140215466.00</td>\n",
       "      <td>4.2</td>\n",
       "    </tr>\n",
       "    <tr>\n",
       "      <td>2</td>\n",
       "      <td>10000000</td>\n",
       "      <td>63</td>\n",
       "      <td>0.00</td>\n",
       "      <td>2174445937.00</td>\n",
       "      <td>7.9</td>\n",
       "    </tr>\n",
       "    <tr>\n",
       "      <td>3</td>\n",
       "      <td>5000000</td>\n",
       "      <td>152</td>\n",
       "      <td>0.00</td>\n",
       "      <td>2788096190.00</td>\n",
       "      <td>10.2</td>\n",
       "    </tr>\n",
       "    <tr>\n",
       "      <td>4</td>\n",
       "      <td>1000000</td>\n",
       "      <td>1272</td>\n",
       "      <td>0.02</td>\n",
       "      <td>4790581969.00</td>\n",
       "      <td>17.4</td>\n",
       "    </tr>\n",
       "    <tr>\n",
       "      <td>5</td>\n",
       "      <td>500000</td>\n",
       "      <td>3413</td>\n",
       "      <td>0.05</td>\n",
       "      <td>6239104750.00</td>\n",
       "      <td>22.7</td>\n",
       "    </tr>\n",
       "    <tr>\n",
       "      <td>6</td>\n",
       "      <td>100000</td>\n",
       "      <td>27132</td>\n",
       "      <td>0.40</td>\n",
       "      <td>10847056859.00</td>\n",
       "      <td>39.5</td>\n",
       "    </tr>\n",
       "    <tr>\n",
       "      <td>7</td>\n",
       "      <td>50000</td>\n",
       "      <td>61836</td>\n",
       "      <td>0.92</td>\n",
       "      <td>13240248957.00</td>\n",
       "      <td>48.2</td>\n",
       "    </tr>\n",
       "    <tr>\n",
       "      <td>8</td>\n",
       "      <td>10000</td>\n",
       "      <td>364585</td>\n",
       "      <td>5.41</td>\n",
       "      <td>19338501071.00</td>\n",
       "      <td>70.4</td>\n",
       "    </tr>\n",
       "    <tr>\n",
       "      <td>9</td>\n",
       "      <td>5000</td>\n",
       "      <td>713220</td>\n",
       "      <td>10.58</td>\n",
       "      <td>21794567888.00</td>\n",
       "      <td>79.4</td>\n",
       "    </tr>\n",
       "    <tr>\n",
       "      <td>10</td>\n",
       "      <td>2500</td>\n",
       "      <td>1284370</td>\n",
       "      <td>19.06</td>\n",
       "      <td>23841389134.00</td>\n",
       "      <td>86.8</td>\n",
       "    </tr>\n",
       "    <tr>\n",
       "      <td>11</td>\n",
       "      <td>1000</td>\n",
       "      <td>2347970</td>\n",
       "      <td>34.84</td>\n",
       "      <td>25671334310.00</td>\n",
       "      <td>93.5</td>\n",
       "    </tr>\n",
       "    <tr>\n",
       "      <td>12</td>\n",
       "      <td>500</td>\n",
       "      <td>3449425</td>\n",
       "      <td>51.19</td>\n",
       "      <td>26584092125.00</td>\n",
       "      <td>96.8</td>\n",
       "    </tr>\n",
       "    <tr>\n",
       "      <td>13</td>\n",
       "      <td>250</td>\n",
       "      <td>4770045</td>\n",
       "      <td>70.79</td>\n",
       "      <td>27140980157.00</td>\n",
       "      <td>98.8</td>\n",
       "    </tr>\n",
       "    <tr>\n",
       "      <td>14</td>\n",
       "      <td>0</td>\n",
       "      <td>6616489</td>\n",
       "      <td>98.19</td>\n",
       "      <td>27468139681.00</td>\n",
       "      <td>100.0</td>\n",
       "    </tr>\n",
       "  </tbody>\n",
       "</table>\n",
       "</div>"
      ],
      "text/plain": [
       "      seg_amt   donors pct_donors       total_amt pct_total_amt\n",
       "0   100000000        4       0.00    732484158.00           2.7\n",
       "1    50000000       10       0.00   1140215466.00           4.2\n",
       "2    10000000       63       0.00   2174445937.00           7.9\n",
       "3     5000000      152       0.00   2788096190.00          10.2\n",
       "4     1000000     1272       0.02   4790581969.00          17.4\n",
       "5      500000     3413       0.05   6239104750.00          22.7\n",
       "6      100000    27132       0.40  10847056859.00          39.5\n",
       "7       50000    61836       0.92  13240248957.00          48.2\n",
       "8       10000   364585       5.41  19338501071.00          70.4\n",
       "9        5000   713220      10.58  21794567888.00          79.4\n",
       "10       2500  1284370      19.06  23841389134.00          86.8\n",
       "11       1000  2347970      34.84  25671334310.00          93.5\n",
       "12        500  3449425      51.19  26584092125.00          96.8\n",
       "13        250  4770045      70.79  27140980157.00          98.8\n",
       "14          0  6616489      98.19  27468139681.00         100.0"
      ]
     },
     "execution_count": 13,
     "metadata": {},
     "output_type": "execute_result"
    }
   ],
   "source": [
    "%%sql\n",
    "select seg_def.seg_amt,\n",
    "       seg_stat.donors,\n",
    "       round(seg_stat.donors::numeric / :num_donors * 100, 2) as pct_donors,\n",
    "       seg_stat.total_amt,\n",
    "       round(seg_stat.total_amt / :sum_total_amt * 100, 1) as pct_total_amt\n",
    "  from total_amt_seg_def seg_def\n",
    "  join lateral\n",
    "       (select count(*)          as donors,\n",
    "               sum(ds.total_amt) as total_amt\n",
    "          from donor_sum ds\n",
    "         where ds.total_amt > seg_def.seg_amt) as seg_stat on true"
   ]
  },
  {
   "cell_type": "markdown",
   "metadata": {},
   "source": [
    "Here are a couple functions that will help us create the Donor Segments representing banded giving amounts.\n",
    "\n",
    "First, a utility function to aid in creating friendlier segments names."
   ]
  },
  {
   "cell_type": "code",
   "execution_count": 14,
   "metadata": {},
   "outputs": [
    {
     "name": "stdout",
     "output_type": "stream",
     "text": [
      " * postgresql+psycopg2://crash@localhost/fecdb\n",
      "Done.\n"
     ]
    },
    {
     "data": {
      "text/html": [
       "<div>\n",
       "<style scoped>\n",
       "    .dataframe tbody tr th:only-of-type {\n",
       "        vertical-align: middle;\n",
       "    }\n",
       "\n",
       "    .dataframe tbody tr th {\n",
       "        vertical-align: top;\n",
       "    }\n",
       "\n",
       "    .dataframe thead th {\n",
       "        text-align: right;\n",
       "    }\n",
       "</style>\n",
       "<table border=\"1\" class=\"dataframe\">\n",
       "  <thead>\n",
       "    <tr style=\"text-align: right;\">\n",
       "      <th></th>\n",
       "    </tr>\n",
       "  </thead>\n",
       "  <tbody>\n",
       "  </tbody>\n",
       "</table>\n",
       "</div>"
      ],
      "text/plain": [
       "Empty DataFrame\n",
       "Columns: []\n",
       "Index: []"
      ]
     },
     "execution_count": 14,
     "metadata": {},
     "output_type": "execute_result"
    }
   ],
   "source": [
    "%%sql\n",
    "CREATE OR REPLACE FUNCTION human_readable(label TEXT) RETURNS TEXT AS $$\n",
    "    SELECT regexp_replace(\n",
    "               regexp_replace(\n",
    "                   regexp_replace(\n",
    "                       label,\n",
    "                       '0{9}([^0-9]|$)', 'B\\1'),\n",
    "                   '0{6}([^0-9]|$)', 'M\\1'),\n",
    "               '0{3}([^0-9]|$)', 'K\\1');\n",
    "$$ LANGUAGE SQL"
   ]
  },
  {
   "cell_type": "markdown",
   "metadata": {},
   "source": [
    "Next, the workhorse function that creates a Donor Segment based on a total giving band (i.e. greater than the specified amount, but less than the next higher threshold), and adds appropriate sample Donors as members.  Note that the underlying `create_donor_seg` function does the work of connecting the `indiv_ids` records to the base Donor (`donor_contrib`) record.\n",
    "\n",
    "Note that this does not really choose a good representative sample within the giving band, it actually just chooses the first `seg_size` records above the threshold amount, and for the case of the top several bands (where the actual membership is less than `seg_size`), it includes members in segments representing higher amounts.  We can fix these things with a little more effort [*psst, EL, let me know*]."
   ]
  },
  {
   "cell_type": "code",
   "execution_count": 15,
   "metadata": {},
   "outputs": [
    {
     "name": "stdout",
     "output_type": "stream",
     "text": [
      " * postgresql+psycopg2://crash@localhost/fecdb\n",
      "Done.\n"
     ]
    },
    {
     "data": {
      "text/html": [
       "<div>\n",
       "<style scoped>\n",
       "    .dataframe tbody tr th:only-of-type {\n",
       "        vertical-align: middle;\n",
       "    }\n",
       "\n",
       "    .dataframe tbody tr th {\n",
       "        vertical-align: top;\n",
       "    }\n",
       "\n",
       "    .dataframe thead th {\n",
       "        text-align: right;\n",
       "    }\n",
       "</style>\n",
       "<table border=\"1\" class=\"dataframe\">\n",
       "  <thead>\n",
       "    <tr style=\"text-align: right;\">\n",
       "      <th></th>\n",
       "    </tr>\n",
       "  </thead>\n",
       "  <tbody>\n",
       "  </tbody>\n",
       "</table>\n",
       "</div>"
      ],
      "text/plain": [
       "Empty DataFrame\n",
       "Columns: []\n",
       "Index: []"
      ]
     },
     "execution_count": 15,
     "metadata": {},
     "output_type": "execute_result"
    }
   ],
   "source": [
    "%%sql\n",
    "CREATE OR REPLACE FUNCTION create_donor_seg_by_amt(seg_amt NUMERIC, seg_size INTEGER = 100)\n",
    "RETURNS TABLE(seg_id BIGINT, seg_name TEXT) AS $$\n",
    "\n",
    "DECLARE\n",
    "sql      TEXT;\n",
    "seg_name TEXT;\n",
    "seg_desc TEXT = NULL;\n",
    "BEGIN\n",
    "    sql = format('select human_readable(concat(%L, $1, %L))', '$', '+ donors');\n",
    "    EXECUTE sql INTO seg_name USING seg_amt;\n",
    "\n",
    "    sql = 'with donor_set as (\n",
    "               select row(ds.indiv_ids)::id_array as ids\n",
    "                 from donor_sum ds\n",
    "                where ds.total_amt > $2\n",
    "                order by ds.total_amt asc\n",
    "                limit ($3)\n",
    "           )\n",
    "           select create_donor_seg(array_agg(ids), $1),\n",
    "                  $1\n",
    "             from donor_set\n",
    "            group by 2';\n",
    "    RETURN QUERY EXECUTE sql USING seg_name, seg_amt, seg_size;\n",
    "END;\n",
    "$$ LANGUAGE plpgsql"
   ]
  },
  {
   "cell_type": "markdown",
   "metadata": {},
   "source": [
    "Now we create Donor Segments for 200 sample records within each segment (with the qualifications on quality of representation given above).  The output lists the segments just created."
   ]
  },
  {
   "cell_type": "code",
   "execution_count": 16,
   "metadata": {},
   "outputs": [
    {
     "name": "stdout",
     "output_type": "stream",
     "text": [
      " * postgresql+psycopg2://crash@localhost/fecdb\n",
      "15 rows affected.\n"
     ]
    },
    {
     "data": {
      "text/html": [
       "<div>\n",
       "<style scoped>\n",
       "    .dataframe tbody tr th:only-of-type {\n",
       "        vertical-align: middle;\n",
       "    }\n",
       "\n",
       "    .dataframe tbody tr th {\n",
       "        vertical-align: top;\n",
       "    }\n",
       "\n",
       "    .dataframe thead th {\n",
       "        text-align: right;\n",
       "    }\n",
       "</style>\n",
       "<table border=\"1\" class=\"dataframe\">\n",
       "  <thead>\n",
       "    <tr style=\"text-align: right;\">\n",
       "      <th></th>\n",
       "      <th>seg_amt</th>\n",
       "      <th>seg_id</th>\n",
       "      <th>seg_name</th>\n",
       "    </tr>\n",
       "  </thead>\n",
       "  <tbody>\n",
       "    <tr>\n",
       "      <td>0</td>\n",
       "      <td>100000000</td>\n",
       "      <td>240</td>\n",
       "      <td>$100M+ donors</td>\n",
       "    </tr>\n",
       "    <tr>\n",
       "      <td>1</td>\n",
       "      <td>50000000</td>\n",
       "      <td>241</td>\n",
       "      <td>$50M+ donors</td>\n",
       "    </tr>\n",
       "    <tr>\n",
       "      <td>2</td>\n",
       "      <td>10000000</td>\n",
       "      <td>242</td>\n",
       "      <td>$10M+ donors</td>\n",
       "    </tr>\n",
       "    <tr>\n",
       "      <td>3</td>\n",
       "      <td>5000000</td>\n",
       "      <td>243</td>\n",
       "      <td>$5M+ donors</td>\n",
       "    </tr>\n",
       "    <tr>\n",
       "      <td>4</td>\n",
       "      <td>1000000</td>\n",
       "      <td>244</td>\n",
       "      <td>$1M+ donors</td>\n",
       "    </tr>\n",
       "    <tr>\n",
       "      <td>5</td>\n",
       "      <td>500000</td>\n",
       "      <td>245</td>\n",
       "      <td>$500K+ donors</td>\n",
       "    </tr>\n",
       "    <tr>\n",
       "      <td>6</td>\n",
       "      <td>100000</td>\n",
       "      <td>246</td>\n",
       "      <td>$100K+ donors</td>\n",
       "    </tr>\n",
       "    <tr>\n",
       "      <td>7</td>\n",
       "      <td>50000</td>\n",
       "      <td>247</td>\n",
       "      <td>$50K+ donors</td>\n",
       "    </tr>\n",
       "    <tr>\n",
       "      <td>8</td>\n",
       "      <td>10000</td>\n",
       "      <td>248</td>\n",
       "      <td>$10K+ donors</td>\n",
       "    </tr>\n",
       "    <tr>\n",
       "      <td>9</td>\n",
       "      <td>5000</td>\n",
       "      <td>249</td>\n",
       "      <td>$5K+ donors</td>\n",
       "    </tr>\n",
       "    <tr>\n",
       "      <td>10</td>\n",
       "      <td>2500</td>\n",
       "      <td>250</td>\n",
       "      <td>$2500+ donors</td>\n",
       "    </tr>\n",
       "    <tr>\n",
       "      <td>11</td>\n",
       "      <td>1000</td>\n",
       "      <td>251</td>\n",
       "      <td>$1K+ donors</td>\n",
       "    </tr>\n",
       "    <tr>\n",
       "      <td>12</td>\n",
       "      <td>500</td>\n",
       "      <td>252</td>\n",
       "      <td>$500+ donors</td>\n",
       "    </tr>\n",
       "    <tr>\n",
       "      <td>13</td>\n",
       "      <td>250</td>\n",
       "      <td>253</td>\n",
       "      <td>$250+ donors</td>\n",
       "    </tr>\n",
       "    <tr>\n",
       "      <td>14</td>\n",
       "      <td>0</td>\n",
       "      <td>254</td>\n",
       "      <td>$0+ donors</td>\n",
       "    </tr>\n",
       "  </tbody>\n",
       "</table>\n",
       "</div>"
      ],
      "text/plain": [
       "      seg_amt  seg_id       seg_name\n",
       "0   100000000     240  $100M+ donors\n",
       "1    50000000     241   $50M+ donors\n",
       "2    10000000     242   $10M+ donors\n",
       "3     5000000     243    $5M+ donors\n",
       "4     1000000     244    $1M+ donors\n",
       "5      500000     245  $500K+ donors\n",
       "6      100000     246  $100K+ donors\n",
       "7       50000     247   $50K+ donors\n",
       "8       10000     248   $10K+ donors\n",
       "9        5000     249    $5K+ donors\n",
       "10       2500     250  $2500+ donors\n",
       "11       1000     251    $1K+ donors\n",
       "12        500     252   $500+ donors\n",
       "13        250     253   $250+ donors\n",
       "14          0     254     $0+ donors"
      ]
     },
     "execution_count": 16,
     "metadata": {},
     "output_type": "execute_result"
    }
   ],
   "source": [
    "%%sql\n",
    "select seg_def.seg_amt, (create_donor_seg_by_amt(seg_def.seg_amt, 200)).*\n",
    "  from total_amt_seg_def seg_def"
   ]
  },
  {
   "cell_type": "markdown",
   "metadata": {},
   "source": [
    "Now show the number of members in each of the segments.  Note that the segments with less then the `seg_size` specified above (and possibly the first one listed with `seg_size` members) may represent multiple inclusions (other than the segment representing the top amount)."
   ]
  },
  {
   "cell_type": "code",
   "execution_count": 17,
   "metadata": {},
   "outputs": [
    {
     "name": "stdout",
     "output_type": "stream",
     "text": [
      " * postgresql+psycopg2://crash@localhost/fecdb\n",
      "(psycopg2.errors.SyntaxError) syntax error at or near \"Create\"\n",
      "LINE 8: ## Create Principal View (`ctx_dseg`) ## order by 1\n",
      "           ^\n",
      "\n",
      "[SQL: select ds.id    as seg_id,\n",
      "       ds.name  as seg_name,\n",
      "       count(*) as seg_members\n",
      "  from donor_seg ds\n",
      "  join donor_seg_memb dsm on dsm.donor_seg_id = ds.id\n",
      " where ds.name ~ '^\\$[0-9].*\\+ donors$'\n",
      " group by 1, 2\n",
      "## Create Principal View (`ctx_dseg`) ## order by 1]\n",
      "(Background on this error at: http://sqlalche.me/e/f405)\n"
     ]
    }
   ],
   "source": [
    "%%sql\n",
    "select ds.id    as seg_id,\n",
    "       ds.name  as seg_name,\n",
    "       count(*) as seg_members\n",
    "  from donor_seg ds\n",
    "  join donor_seg_memb dsm on dsm.donor_seg_id = ds.id\n",
    " where ds.name ~ '^\\$[0-9].*\\+ donors$'\n",
    " group by 1, 2\n",
    "## Create Principal View (`ctx_dseg`) ## order by 1"
   ]
  },
  {
   "cell_type": "markdown",
   "metadata": {},
   "source": [
    "## Create Principal View (`ctx_dseg`) ##"
   ]
  },
  {
   "cell_type": "code",
   "execution_count": 18,
   "metadata": {},
   "outputs": [
    {
     "name": "stdout",
     "output_type": "stream",
     "text": [
      " * postgresql+psycopg2://crash@localhost/fecdb\n",
      "Done.\n"
     ]
    },
    {
     "data": {
      "text/html": [
       "<div>\n",
       "<style scoped>\n",
       "    .dataframe tbody tr th:only-of-type {\n",
       "        vertical-align: middle;\n",
       "    }\n",
       "\n",
       "    .dataframe tbody tr th {\n",
       "        vertical-align: top;\n",
       "    }\n",
       "\n",
       "    .dataframe thead th {\n",
       "        text-align: right;\n",
       "    }\n",
       "</style>\n",
       "<table border=\"1\" class=\"dataframe\">\n",
       "  <thead>\n",
       "    <tr style=\"text-align: right;\">\n",
       "      <th></th>\n",
       "    </tr>\n",
       "  </thead>\n",
       "  <tbody>\n",
       "  </tbody>\n",
       "</table>\n",
       "</div>"
      ],
      "text/plain": [
       "Empty DataFrame\n",
       "Columns: []\n",
       "Index: []"
      ]
     },
     "execution_count": 18,
     "metadata": {},
     "output_type": "execute_result"
    }
   ],
   "source": [
    "%%sql\n",
    "create or replace view ctx_dseg as\n",
    "select id,\n",
    "       name,\n",
    "       description\n",
    "  from donor_seg ds\n",
    " where ds.name in ('$100M+ donors', '$50M+ donors', '$10M+ donors')"
   ]
  },
  {
   "cell_type": "markdown",
   "metadata": {},
   "source": [
    "Validate the Segments included in the context."
   ]
  },
  {
   "cell_type": "code",
   "execution_count": 19,
   "metadata": {},
   "outputs": [
    {
     "name": "stdout",
     "output_type": "stream",
     "text": [
      " * postgresql+psycopg2://crash@localhost/fecdb\n",
      "3 rows affected.\n"
     ]
    },
    {
     "data": {
      "text/html": [
       "<div>\n",
       "<style scoped>\n",
       "    .dataframe tbody tr th:only-of-type {\n",
       "        vertical-align: middle;\n",
       "    }\n",
       "\n",
       "    .dataframe tbody tr th {\n",
       "        vertical-align: top;\n",
       "    }\n",
       "\n",
       "    .dataframe thead th {\n",
       "        text-align: right;\n",
       "    }\n",
       "</style>\n",
       "<table border=\"1\" class=\"dataframe\">\n",
       "  <thead>\n",
       "    <tr style=\"text-align: right;\">\n",
       "      <th></th>\n",
       "      <th>id</th>\n",
       "      <th>name</th>\n",
       "      <th>description</th>\n",
       "    </tr>\n",
       "  </thead>\n",
       "  <tbody>\n",
       "    <tr>\n",
       "      <td>0</td>\n",
       "      <td>240</td>\n",
       "      <td>$100M+ donors</td>\n",
       "      <td>None</td>\n",
       "    </tr>\n",
       "    <tr>\n",
       "      <td>1</td>\n",
       "      <td>241</td>\n",
       "      <td>$50M+ donors</td>\n",
       "      <td>None</td>\n",
       "    </tr>\n",
       "    <tr>\n",
       "      <td>2</td>\n",
       "      <td>242</td>\n",
       "      <td>$10M+ donors</td>\n",
       "      <td>None</td>\n",
       "    </tr>\n",
       "  </tbody>\n",
       "</table>\n",
       "</div>"
      ],
      "text/plain": [
       "    id           name description\n",
       "0  240  $100M+ donors        None\n",
       "1  241   $50M+ donors        None\n",
       "2  242   $10M+ donors        None"
      ]
     },
     "execution_count": 19,
     "metadata": {},
     "output_type": "execute_result"
    }
   ],
   "source": [
    "%%sql\n",
    "select *\n",
    "  from ctx_dseg"
   ]
  },
  {
   "cell_type": "markdown",
   "metadata": {},
   "source": [
    "## Create Dependent Views ##\n",
    "\n",
    "### Create `ctx_dseg_memb` ###"
   ]
  },
  {
   "cell_type": "code",
   "execution_count": 20,
   "metadata": {},
   "outputs": [
    {
     "name": "stdout",
     "output_type": "stream",
     "text": [
      " * postgresql+psycopg2://crash@localhost/fecdb\n",
      "Done.\n"
     ]
    },
    {
     "data": {
      "text/html": [
       "<div>\n",
       "<style scoped>\n",
       "    .dataframe tbody tr th:only-of-type {\n",
       "        vertical-align: middle;\n",
       "    }\n",
       "\n",
       "    .dataframe tbody tr th {\n",
       "        vertical-align: top;\n",
       "    }\n",
       "\n",
       "    .dataframe thead th {\n",
       "        text-align: right;\n",
       "    }\n",
       "</style>\n",
       "<table border=\"1\" class=\"dataframe\">\n",
       "  <thead>\n",
       "    <tr style=\"text-align: right;\">\n",
       "      <th></th>\n",
       "    </tr>\n",
       "  </thead>\n",
       "  <tbody>\n",
       "  </tbody>\n",
       "</table>\n",
       "</div>"
      ],
      "text/plain": [
       "Empty DataFrame\n",
       "Columns: []\n",
       "Index: []"
      ]
     },
     "execution_count": 20,
     "metadata": {},
     "output_type": "execute_result"
    }
   ],
   "source": [
    "%%sql\n",
    "create or replace view ctx_dseg_memb as\n",
    "select dsm.*\n",
    "  from ctx_dseg dsx\n",
    "  join donor_seg_memb dsm on dsm.donor_seg_id = dsx.id"
   ]
  },
  {
   "cell_type": "markdown",
   "metadata": {},
   "source": [
    "Taking a look at the Donor Segment Members, we may see some repetition of Donors who were inadvertently added as members of multiple Donor Segments."
   ]
  },
  {
   "cell_type": "code",
   "execution_count": 21,
   "metadata": {
    "scrolled": false
   },
   "outputs": [
    {
     "name": "stdout",
     "output_type": "stream",
     "text": [
      " * postgresql+psycopg2://crash@localhost/fecdb\n",
      "77 rows affected.\n"
     ]
    },
    {
     "data": {
      "text/html": [
       "<div>\n",
       "<style scoped>\n",
       "    .dataframe tbody tr th:only-of-type {\n",
       "        vertical-align: middle;\n",
       "    }\n",
       "\n",
       "    .dataframe tbody tr th {\n",
       "        vertical-align: top;\n",
       "    }\n",
       "\n",
       "    .dataframe thead th {\n",
       "        text-align: right;\n",
       "    }\n",
       "</style>\n",
       "<table border=\"1\" class=\"dataframe\">\n",
       "  <thead>\n",
       "    <tr style=\"text-align: right;\">\n",
       "      <th></th>\n",
       "      <th>dseg_id</th>\n",
       "      <th>dseg_name</th>\n",
       "      <th>memb_donor_id</th>\n",
       "      <th>memb_donor_name</th>\n",
       "      <th>city</th>\n",
       "      <th>state</th>\n",
       "      <th>zip_code</th>\n",
       "    </tr>\n",
       "  </thead>\n",
       "  <tbody>\n",
       "    <tr>\n",
       "      <td>0</td>\n",
       "      <td>240</td>\n",
       "      <td>$100M+ donors</td>\n",
       "      <td>70692</td>\n",
       "      <td>ADELSON, MIRIAM</td>\n",
       "      <td>LAS VEAGS</td>\n",
       "      <td>NV</td>\n",
       "      <td>89109</td>\n",
       "    </tr>\n",
       "    <tr>\n",
       "      <td>1</td>\n",
       "      <td>240</td>\n",
       "      <td>$100M+ donors</td>\n",
       "      <td>1076630</td>\n",
       "      <td>BLOOMBERG, MICHAEL</td>\n",
       "      <td>NEW YORK</td>\n",
       "      <td>NY</td>\n",
       "      <td>10021</td>\n",
       "    </tr>\n",
       "    <tr>\n",
       "      <td>2</td>\n",
       "      <td>240</td>\n",
       "      <td>$100M+ donors</td>\n",
       "      <td>70790</td>\n",
       "      <td>ADELSON, SHELDON</td>\n",
       "      <td>LAS VEGAS</td>\n",
       "      <td>NV</td>\n",
       "      <td>89109</td>\n",
       "    </tr>\n",
       "    <tr>\n",
       "      <td>3</td>\n",
       "      <td>240</td>\n",
       "      <td>$100M+ donors</td>\n",
       "      <td>11612429</td>\n",
       "      <td>STEYER, THOMAS</td>\n",
       "      <td>SAN FRANCISCO</td>\n",
       "      <td>CA</td>\n",
       "      <td>94104</td>\n",
       "    </tr>\n",
       "    <tr>\n",
       "      <td>4</td>\n",
       "      <td>241</td>\n",
       "      <td>$50M+ donors</td>\n",
       "      <td>11141923</td>\n",
       "      <td>SINGER, PAUL</td>\n",
       "      <td>NEW YOR</td>\n",
       "      <td>NY</td>\n",
       "      <td>10024</td>\n",
       "    </tr>\n",
       "    <tr>\n",
       "      <td>...</td>\n",
       "      <td>...</td>\n",
       "      <td>...</td>\n",
       "      <td>...</td>\n",
       "      <td>...</td>\n",
       "      <td>...</td>\n",
       "      <td>...</td>\n",
       "      <td>...</td>\n",
       "    </tr>\n",
       "    <tr>\n",
       "      <td>72</td>\n",
       "      <td>242</td>\n",
       "      <td>$10M+ donors</td>\n",
       "      <td>3535137</td>\n",
       "      <td>EYCHANER, FRED</td>\n",
       "      <td>CHICAGO</td>\n",
       "      <td>IL</td>\n",
       "      <td>60614</td>\n",
       "    </tr>\n",
       "    <tr>\n",
       "      <td>73</td>\n",
       "      <td>242</td>\n",
       "      <td>$10M+ donors</td>\n",
       "      <td>70692</td>\n",
       "      <td>ADELSON, MIRIAM</td>\n",
       "      <td>LAS VEAGS</td>\n",
       "      <td>NV</td>\n",
       "      <td>89109</td>\n",
       "    </tr>\n",
       "    <tr>\n",
       "      <td>74</td>\n",
       "      <td>242</td>\n",
       "      <td>$10M+ donors</td>\n",
       "      <td>1076630</td>\n",
       "      <td>BLOOMBERG, MICHAEL</td>\n",
       "      <td>NEW YORK</td>\n",
       "      <td>NY</td>\n",
       "      <td>10021</td>\n",
       "    </tr>\n",
       "    <tr>\n",
       "      <td>75</td>\n",
       "      <td>242</td>\n",
       "      <td>$10M+ donors</td>\n",
       "      <td>70790</td>\n",
       "      <td>ADELSON, SHELDON</td>\n",
       "      <td>LAS VEGAS</td>\n",
       "      <td>NV</td>\n",
       "      <td>89109</td>\n",
       "    </tr>\n",
       "    <tr>\n",
       "      <td>76</td>\n",
       "      <td>242</td>\n",
       "      <td>$10M+ donors</td>\n",
       "      <td>11612429</td>\n",
       "      <td>STEYER, THOMAS</td>\n",
       "      <td>SAN FRANCISCO</td>\n",
       "      <td>CA</td>\n",
       "      <td>94104</td>\n",
       "    </tr>\n",
       "  </tbody>\n",
       "</table>\n",
       "<p>77 rows × 7 columns</p>\n",
       "</div>"
      ],
      "text/plain": [
       "    dseg_id      dseg_name  memb_donor_id     memb_donor_name           city  \\\n",
       "0       240  $100M+ donors          70692     ADELSON, MIRIAM      LAS VEAGS   \n",
       "1       240  $100M+ donors        1076630  BLOOMBERG, MICHAEL       NEW YORK   \n",
       "2       240  $100M+ donors          70790    ADELSON, SHELDON      LAS VEGAS   \n",
       "3       240  $100M+ donors       11612429      STEYER, THOMAS  SAN FRANCISCO   \n",
       "4       241   $50M+ donors       11141923        SINGER, PAUL        NEW YOR   \n",
       "..      ...            ...            ...                 ...            ...   \n",
       "72      242   $10M+ donors        3535137      EYCHANER, FRED        CHICAGO   \n",
       "73      242   $10M+ donors          70692     ADELSON, MIRIAM      LAS VEAGS   \n",
       "74      242   $10M+ donors        1076630  BLOOMBERG, MICHAEL       NEW YORK   \n",
       "75      242   $10M+ donors          70790    ADELSON, SHELDON      LAS VEGAS   \n",
       "76      242   $10M+ donors       11612429      STEYER, THOMAS  SAN FRANCISCO   \n",
       "\n",
       "   state zip_code  \n",
       "0     NV    89109  \n",
       "1     NY    10021  \n",
       "2     NV    89109  \n",
       "3     CA    94104  \n",
       "4     NY    10024  \n",
       "..   ...      ...  \n",
       "72    IL    60614  \n",
       "73    NV    89109  \n",
       "74    NY    10021  \n",
       "75    NV    89109  \n",
       "76    CA    94104  \n",
       "\n",
       "[77 rows x 7 columns]"
      ]
     },
     "execution_count": 21,
     "metadata": {},
     "output_type": "execute_result"
    }
   ],
   "source": [
    "%%sql\n",
    "select ds.id   as dseg_id,\n",
    "       ds.name as dseg_name,\n",
    "       d.id    as memb_donor_id,\n",
    "       d.name  as memb_donor_name,\n",
    "       d.city,\n",
    "       d.state,\n",
    "       d.zip_code\n",
    "  from ctx_dseg_memb dsmx\n",
    "  join donor_seg ds on ds.id = dsmx.donor_seg_id\n",
    "  join donor_indiv d on d.id = dsmx.donor_indiv_id"
   ]
  },
  {
   "cell_type": "markdown",
   "metadata": {},
   "source": [
    "### Create `ctx_donor` ###\n",
    "\n",
    "We actually have to guard againt multiple inclusions of a Donor (member of overlapping Donor Segments), as highlighted by the caveat given above in the creation of the Donor Segments.  If there are a significantly large number of Donor records represented in the context, then we may want to create this as a materialized view, so that the DISTINCT operation isn't performed for every query based on `ctx_donor`.\n",
    "\n",
    "Note that if there is no chance of multiple inclusion (e.g. if `ctx_dseg` does not include more than one Donor Segments, as is the case in `dc6`), then `ctx_donor` can be created more simply (and more performantly...if that's a word) like this:\n",
    "\n",
    "```sql\n",
    "create or replace view ctx_donor as\n",
    "select d.*\n",
    "  from ctx_dseg_memb dsmx\n",
    "  join donor_indiv d on d.id = dsmx.donor_indiv_id\n",
    "```"
   ]
  },
  {
   "cell_type": "code",
   "execution_count": 22,
   "metadata": {},
   "outputs": [
    {
     "name": "stdout",
     "output_type": "stream",
     "text": [
      " * postgresql+psycopg2://crash@localhost/fecdb\n",
      "Done.\n"
     ]
    },
    {
     "data": {
      "text/html": [
       "<div>\n",
       "<style scoped>\n",
       "    .dataframe tbody tr th:only-of-type {\n",
       "        vertical-align: middle;\n",
       "    }\n",
       "\n",
       "    .dataframe tbody tr th {\n",
       "        vertical-align: top;\n",
       "    }\n",
       "\n",
       "    .dataframe thead th {\n",
       "        text-align: right;\n",
       "    }\n",
       "</style>\n",
       "<table border=\"1\" class=\"dataframe\">\n",
       "  <thead>\n",
       "    <tr style=\"text-align: right;\">\n",
       "      <th></th>\n",
       "    </tr>\n",
       "  </thead>\n",
       "  <tbody>\n",
       "  </tbody>\n",
       "</table>\n",
       "</div>"
      ],
      "text/plain": [
       "Empty DataFrame\n",
       "Columns: []\n",
       "Index: []"
      ]
     },
     "execution_count": 22,
     "metadata": {},
     "output_type": "execute_result"
    }
   ],
   "source": [
    "%%sql\n",
    "create or replace view ctx_donor as\n",
    "with ctx_dseg_donor as (\n",
    "    select distinct dsmx.donor_indiv_id\n",
    "      from ctx_dseg_memb dsmx\n",
    ")\n",
    "select d.*\n",
    "  from ctx_dseg_donor dsdx\n",
    "  join donor_indiv d on d.id = dsdx.donor_indiv_id"
   ]
  },
  {
   "cell_type": "markdown",
   "metadata": {},
   "source": [
    "Note that the number of Donor records in the context is less than the number of Donor Segment Members, since the latter count represented multiple inclusions of `donor_indiv` records."
   ]
  },
  {
   "cell_type": "code",
   "execution_count": 23,
   "metadata": {
    "scrolled": false
   },
   "outputs": [
    {
     "name": "stdout",
     "output_type": "stream",
     "text": [
      " * postgresql+psycopg2://crash@localhost/fecdb\n",
      "63 rows affected.\n"
     ]
    },
    {
     "data": {
      "text/html": [
       "<div>\n",
       "<style scoped>\n",
       "    .dataframe tbody tr th:only-of-type {\n",
       "        vertical-align: middle;\n",
       "    }\n",
       "\n",
       "    .dataframe tbody tr th {\n",
       "        vertical-align: top;\n",
       "    }\n",
       "\n",
       "    .dataframe thead th {\n",
       "        text-align: right;\n",
       "    }\n",
       "</style>\n",
       "<table border=\"1\" class=\"dataframe\">\n",
       "  <thead>\n",
       "    <tr style=\"text-align: right;\">\n",
       "      <th></th>\n",
       "      <th>id</th>\n",
       "      <th>name</th>\n",
       "      <th>city</th>\n",
       "      <th>state</th>\n",
       "      <th>zip_code</th>\n",
       "      <th>elect_cycles</th>\n",
       "    </tr>\n",
       "  </thead>\n",
       "  <tbody>\n",
       "    <tr>\n",
       "      <td>0</td>\n",
       "      <td>21795</td>\n",
       "      <td>ABRAHAM, DANIEL</td>\n",
       "      <td>PALM BEACH</td>\n",
       "      <td>FL</td>\n",
       "      <td>33480</td>\n",
       "      <td>[2000, 2004, 2008]</td>\n",
       "    </tr>\n",
       "    <tr>\n",
       "      <td>1</td>\n",
       "      <td>70692</td>\n",
       "      <td>ADELSON, MIRIAM</td>\n",
       "      <td>LAS VEAGS</td>\n",
       "      <td>NV</td>\n",
       "      <td>89109</td>\n",
       "      <td>[2014]</td>\n",
       "    </tr>\n",
       "    <tr>\n",
       "      <td>2</td>\n",
       "      <td>70790</td>\n",
       "      <td>ADELSON, SHELDON</td>\n",
       "      <td>LAS VEGAS</td>\n",
       "      <td>NV</td>\n",
       "      <td>89109</td>\n",
       "      <td>[2000, 2002, 2004, 2006, 2008, 2010, 2012, 201...</td>\n",
       "    </tr>\n",
       "    <tr>\n",
       "      <td>3</td>\n",
       "      <td>403996</td>\n",
       "      <td>ASSOCIATION, NATIONAL EDUCATION</td>\n",
       "      <td>WASHINGTON</td>\n",
       "      <td>DC</td>\n",
       "      <td>20005</td>\n",
       "      <td>[2014, 2016]</td>\n",
       "    </tr>\n",
       "    <tr>\n",
       "      <td>4</td>\n",
       "      <td>790270</td>\n",
       "      <td>BEKENSTEIN, JOSH</td>\n",
       "      <td>WAYLAND</td>\n",
       "      <td>MA</td>\n",
       "      <td>01778</td>\n",
       "      <td>[2002, 2006, 2008, 2012, 2018]</td>\n",
       "    </tr>\n",
       "    <tr>\n",
       "      <td>...</td>\n",
       "      <td>...</td>\n",
       "      <td>...</td>\n",
       "      <td>...</td>\n",
       "      <td>...</td>\n",
       "      <td>...</td>\n",
       "      <td>...</td>\n",
       "    </tr>\n",
       "    <tr>\n",
       "      <td>58</td>\n",
       "      <td>12215200</td>\n",
       "      <td>TRUMP, DONALD</td>\n",
       "      <td>NEW YORK</td>\n",
       "      <td>NY</td>\n",
       "      <td>10022</td>\n",
       "      <td>[2000, 2002, 2004, 2006, 2008, 2010, 2012, 2014]</td>\n",
       "    </tr>\n",
       "    <tr>\n",
       "      <td>59</td>\n",
       "      <td>12286548</td>\n",
       "      <td>UIHLEIN, RICHARD</td>\n",
       "      <td>LAKE BLUFF</td>\n",
       "      <td>IL</td>\n",
       "      <td>60044</td>\n",
       "      <td>[2000, 2002]</td>\n",
       "    </tr>\n",
       "    <tr>\n",
       "      <td>60</td>\n",
       "      <td>12640168</td>\n",
       "      <td>WARREN, KELCY</td>\n",
       "      <td>DALLAS</td>\n",
       "      <td>TX</td>\n",
       "      <td>75219</td>\n",
       "      <td>[2012, 2014, 2016, 2018, 2020]</td>\n",
       "    </tr>\n",
       "    <tr>\n",
       "      <td>61</td>\n",
       "      <td>13175315</td>\n",
       "      <td>WOODS, LAURE</td>\n",
       "      <td>MENLO PARK</td>\n",
       "      <td>CA</td>\n",
       "      <td>940287343</td>\n",
       "      <td>[2018]</td>\n",
       "    </tr>\n",
       "    <tr>\n",
       "      <td>62</td>\n",
       "      <td>13260803</td>\n",
       "      <td>YASS, JEFF</td>\n",
       "      <td>BALA CANYON</td>\n",
       "      <td>PA</td>\n",
       "      <td>19004</td>\n",
       "      <td>[2002]</td>\n",
       "    </tr>\n",
       "  </tbody>\n",
       "</table>\n",
       "<p>63 rows × 6 columns</p>\n",
       "</div>"
      ],
      "text/plain": [
       "          id                             name         city state   zip_code  \\\n",
       "0      21795                  ABRAHAM, DANIEL   PALM BEACH    FL      33480   \n",
       "1      70692                  ADELSON, MIRIAM    LAS VEAGS    NV      89109   \n",
       "2      70790                 ADELSON, SHELDON    LAS VEGAS    NV      89109   \n",
       "3     403996  ASSOCIATION, NATIONAL EDUCATION   WASHINGTON    DC      20005   \n",
       "4     790270                 BEKENSTEIN, JOSH      WAYLAND    MA      01778   \n",
       "..       ...                              ...          ...   ...        ...   \n",
       "58  12215200                    TRUMP, DONALD     NEW YORK    NY      10022   \n",
       "59  12286548                 UIHLEIN, RICHARD   LAKE BLUFF    IL      60044   \n",
       "60  12640168                    WARREN, KELCY       DALLAS    TX      75219   \n",
       "61  13175315                     WOODS, LAURE   MENLO PARK    CA  940287343   \n",
       "62  13260803                       YASS, JEFF  BALA CANYON    PA      19004   \n",
       "\n",
       "                                         elect_cycles  \n",
       "0                                  [2000, 2004, 2008]  \n",
       "1                                              [2014]  \n",
       "2   [2000, 2002, 2004, 2006, 2008, 2010, 2012, 201...  \n",
       "3                                        [2014, 2016]  \n",
       "4                      [2002, 2006, 2008, 2012, 2018]  \n",
       "..                                                ...  \n",
       "58   [2000, 2002, 2004, 2006, 2008, 2010, 2012, 2014]  \n",
       "59                                       [2000, 2002]  \n",
       "60                     [2012, 2014, 2016, 2018, 2020]  \n",
       "61                                             [2018]  \n",
       "62                                             [2002]  \n",
       "\n",
       "[63 rows x 6 columns]"
      ]
     },
     "execution_count": 23,
     "metadata": {},
     "output_type": "execute_result"
    }
   ],
   "source": [
    "%%sql\n",
    "select id,\n",
    "       name,\n",
    "       city,\n",
    "       state,\n",
    "       zip_code,\n",
    "       elect_cycles\n",
    "  from ctx_donor"
   ]
  },
  {
   "cell_type": "markdown",
   "metadata": {},
   "source": [
    "### Create `ctx_indiv` ###"
   ]
  },
  {
   "cell_type": "code",
   "execution_count": 24,
   "metadata": {},
   "outputs": [
    {
     "name": "stdout",
     "output_type": "stream",
     "text": [
      " * postgresql+psycopg2://crash@localhost/fecdb\n",
      "Done.\n"
     ]
    },
    {
     "data": {
      "text/html": [
       "<div>\n",
       "<style scoped>\n",
       "    .dataframe tbody tr th:only-of-type {\n",
       "        vertical-align: middle;\n",
       "    }\n",
       "\n",
       "    .dataframe tbody tr th {\n",
       "        vertical-align: top;\n",
       "    }\n",
       "\n",
       "    .dataframe thead th {\n",
       "        text-align: right;\n",
       "    }\n",
       "</style>\n",
       "<table border=\"1\" class=\"dataframe\">\n",
       "  <thead>\n",
       "    <tr style=\"text-align: right;\">\n",
       "      <th></th>\n",
       "    </tr>\n",
       "  </thead>\n",
       "  <tbody>\n",
       "  </tbody>\n",
       "</table>\n",
       "</div>"
      ],
      "text/plain": [
       "Empty DataFrame\n",
       "Columns: []\n",
       "Index: []"
      ]
     },
     "execution_count": 24,
     "metadata": {},
     "output_type": "execute_result"
    }
   ],
   "source": [
    "%%sql\n",
    "create or replace view ctx_indiv as\n",
    "select i.*\n",
    "  from ctx_donor dx\n",
    "  join indiv i on i.donor_indiv_id = dx.id"
   ]
  },
  {
   "cell_type": "code",
   "execution_count": 25,
   "metadata": {
    "scrolled": false
   },
   "outputs": [
    {
     "name": "stdout",
     "output_type": "stream",
     "text": [
      " * postgresql+psycopg2://crash@localhost/fecdb\n",
      "1433 rows affected.\n"
     ]
    },
    {
     "data": {
      "text/html": [
       "<div>\n",
       "<style scoped>\n",
       "    .dataframe tbody tr th:only-of-type {\n",
       "        vertical-align: middle;\n",
       "    }\n",
       "\n",
       "    .dataframe tbody tr th {\n",
       "        vertical-align: top;\n",
       "    }\n",
       "\n",
       "    .dataframe thead th {\n",
       "        text-align: right;\n",
       "    }\n",
       "</style>\n",
       "<table border=\"1\" class=\"dataframe\">\n",
       "  <thead>\n",
       "    <tr style=\"text-align: right;\">\n",
       "      <th></th>\n",
       "      <th>id</th>\n",
       "      <th>name</th>\n",
       "      <th>city</th>\n",
       "      <th>state</th>\n",
       "      <th>zip_code</th>\n",
       "      <th>elect_cycles</th>\n",
       "      <th>donor_indiv_id</th>\n",
       "    </tr>\n",
       "  </thead>\n",
       "  <tbody>\n",
       "    <tr>\n",
       "      <td>0</td>\n",
       "      <td>21799</td>\n",
       "      <td>ABRAHAM, DANIEL</td>\n",
       "      <td>WEST PALM BEACH</td>\n",
       "      <td>FL</td>\n",
       "      <td>334016122</td>\n",
       "      <td>[2014, 2016]</td>\n",
       "      <td>21795</td>\n",
       "    </tr>\n",
       "    <tr>\n",
       "      <td>1</td>\n",
       "      <td>21798</td>\n",
       "      <td>ABRAHAM, DANIEL</td>\n",
       "      <td>WEST PALM BEACH</td>\n",
       "      <td>FL</td>\n",
       "      <td>33401</td>\n",
       "      <td>[2000, 2002, 2004, 2006, 2008, 2010, 2012, 2014]</td>\n",
       "      <td>21795</td>\n",
       "    </tr>\n",
       "    <tr>\n",
       "      <td>2</td>\n",
       "      <td>21795</td>\n",
       "      <td>ABRAHAM, DANIEL</td>\n",
       "      <td>PALM BEACH</td>\n",
       "      <td>FL</td>\n",
       "      <td>33480</td>\n",
       "      <td>[2000, 2004, 2008]</td>\n",
       "      <td>21795</td>\n",
       "    </tr>\n",
       "    <tr>\n",
       "      <td>3</td>\n",
       "      <td>21802</td>\n",
       "      <td>ABRAHAM, DANIEL</td>\n",
       "      <td>WEST PALM BEACH</td>\n",
       "      <td>FL</td>\n",
       "      <td>334016163</td>\n",
       "      <td>[2016]</td>\n",
       "      <td>21795</td>\n",
       "    </tr>\n",
       "    <tr>\n",
       "      <td>4</td>\n",
       "      <td>21801</td>\n",
       "      <td>ABRAHAM, DANIEL</td>\n",
       "      <td>WEST PALM BEACH</td>\n",
       "      <td>FL</td>\n",
       "      <td>334016161</td>\n",
       "      <td>[2016, 2018, 2020]</td>\n",
       "      <td>21795</td>\n",
       "    </tr>\n",
       "    <tr>\n",
       "      <td>...</td>\n",
       "      <td>...</td>\n",
       "      <td>...</td>\n",
       "      <td>...</td>\n",
       "      <td>...</td>\n",
       "      <td>...</td>\n",
       "      <td>...</td>\n",
       "      <td>...</td>\n",
       "    </tr>\n",
       "    <tr>\n",
       "      <td>1428</td>\n",
       "      <td>13260839</td>\n",
       "      <td>YASS, JEFFREY S.</td>\n",
       "      <td>BALA CYNWYD</td>\n",
       "      <td>PA</td>\n",
       "      <td>19004</td>\n",
       "      <td>[2014, 2016, 2018]</td>\n",
       "      <td>13260803</td>\n",
       "    </tr>\n",
       "    <tr>\n",
       "      <td>1429</td>\n",
       "      <td>13260841</td>\n",
       "      <td>YASS, JEFFREY S.</td>\n",
       "      <td>HAVERFORD</td>\n",
       "      <td>PA</td>\n",
       "      <td>190411804</td>\n",
       "      <td>[2010]</td>\n",
       "      <td>13260803</td>\n",
       "    </tr>\n",
       "    <tr>\n",
       "      <td>1430</td>\n",
       "      <td>13260840</td>\n",
       "      <td>YASS, JEFFREY S.</td>\n",
       "      <td>HAVERFORD</td>\n",
       "      <td>PA</td>\n",
       "      <td>19041</td>\n",
       "      <td>[2002]</td>\n",
       "      <td>13260803</td>\n",
       "    </tr>\n",
       "    <tr>\n",
       "      <td>1431</td>\n",
       "      <td>13260842</td>\n",
       "      <td>YASS, JEFFREY S MR.</td>\n",
       "      <td>HAVERFORD</td>\n",
       "      <td>PA</td>\n",
       "      <td>19041</td>\n",
       "      <td>[2006]</td>\n",
       "      <td>13260803</td>\n",
       "    </tr>\n",
       "    <tr>\n",
       "      <td>1432</td>\n",
       "      <td>13260843</td>\n",
       "      <td>YASS, JEFFREY S. MR.</td>\n",
       "      <td>HAVERFORD</td>\n",
       "      <td>PA</td>\n",
       "      <td>19041</td>\n",
       "      <td>[2004]</td>\n",
       "      <td>13260803</td>\n",
       "    </tr>\n",
       "  </tbody>\n",
       "</table>\n",
       "<p>1433 rows × 7 columns</p>\n",
       "</div>"
      ],
      "text/plain": [
       "            id                  name             city state   zip_code  \\\n",
       "0        21799       ABRAHAM, DANIEL  WEST PALM BEACH    FL  334016122   \n",
       "1        21798       ABRAHAM, DANIEL  WEST PALM BEACH    FL      33401   \n",
       "2        21795       ABRAHAM, DANIEL       PALM BEACH    FL      33480   \n",
       "3        21802       ABRAHAM, DANIEL  WEST PALM BEACH    FL  334016163   \n",
       "4        21801       ABRAHAM, DANIEL  WEST PALM BEACH    FL  334016161   \n",
       "...        ...                   ...              ...   ...        ...   \n",
       "1428  13260839      YASS, JEFFREY S.      BALA CYNWYD    PA      19004   \n",
       "1429  13260841      YASS, JEFFREY S.        HAVERFORD    PA  190411804   \n",
       "1430  13260840      YASS, JEFFREY S.        HAVERFORD    PA      19041   \n",
       "1431  13260842   YASS, JEFFREY S MR.        HAVERFORD    PA      19041   \n",
       "1432  13260843  YASS, JEFFREY S. MR.        HAVERFORD    PA      19041   \n",
       "\n",
       "                                          elect_cycles  donor_indiv_id  \n",
       "0                                         [2014, 2016]           21795  \n",
       "1     [2000, 2002, 2004, 2006, 2008, 2010, 2012, 2014]           21795  \n",
       "2                                   [2000, 2004, 2008]           21795  \n",
       "3                                               [2016]           21795  \n",
       "4                                   [2016, 2018, 2020]           21795  \n",
       "...                                                ...             ...  \n",
       "1428                                [2014, 2016, 2018]        13260803  \n",
       "1429                                            [2010]        13260803  \n",
       "1430                                            [2002]        13260803  \n",
       "1431                                            [2006]        13260803  \n",
       "1432                                            [2004]        13260803  \n",
       "\n",
       "[1433 rows x 7 columns]"
      ]
     },
     "execution_count": 25,
     "metadata": {},
     "output_type": "execute_result"
    }
   ],
   "source": [
    "%%sql\n",
    "select id,\n",
    "       name,\n",
    "       city,\n",
    "       state,\n",
    "       zip_code,\n",
    "       elect_cycles,\n",
    "       donor_indiv_id\n",
    "  from ctx_indiv\n",
    " order by donor_indiv_id, name"
   ]
  },
  {
   "cell_type": "markdown",
   "metadata": {},
   "source": [
    "### Create `ctx_indiv_contrib` ###"
   ]
  },
  {
   "cell_type": "code",
   "execution_count": 26,
   "metadata": {},
   "outputs": [
    {
     "name": "stdout",
     "output_type": "stream",
     "text": [
      " * postgresql+psycopg2://crash@localhost/fecdb\n",
      "Done.\n"
     ]
    },
    {
     "data": {
      "text/html": [
       "<div>\n",
       "<style scoped>\n",
       "    .dataframe tbody tr th:only-of-type {\n",
       "        vertical-align: middle;\n",
       "    }\n",
       "\n",
       "    .dataframe tbody tr th {\n",
       "        vertical-align: top;\n",
       "    }\n",
       "\n",
       "    .dataframe thead th {\n",
       "        text-align: right;\n",
       "    }\n",
       "</style>\n",
       "<table border=\"1\" class=\"dataframe\">\n",
       "  <thead>\n",
       "    <tr style=\"text-align: right;\">\n",
       "      <th></th>\n",
       "    </tr>\n",
       "  </thead>\n",
       "  <tbody>\n",
       "  </tbody>\n",
       "</table>\n",
       "</div>"
      ],
      "text/plain": [
       "Empty DataFrame\n",
       "Columns: []\n",
       "Index: []"
      ]
     },
     "execution_count": 26,
     "metadata": {},
     "output_type": "execute_result"
    }
   ],
   "source": [
    "%%sql\n",
    "create or replace view ctx_indiv_contrib as\n",
    "select ic.*\n",
    "  from ctx_indiv ix\n",
    "  join indiv_contrib ic on ic.indiv_id = ix.id"
   ]
  },
  {
   "cell_type": "code",
   "execution_count": 27,
   "metadata": {},
   "outputs": [
    {
     "name": "stdout",
     "output_type": "stream",
     "text": [
      " * postgresql+psycopg2://crash@localhost/fecdb\n",
      "1 rows affected.\n"
     ]
    },
    {
     "data": {
      "text/html": [
       "<div>\n",
       "<style scoped>\n",
       "    .dataframe tbody tr th:only-of-type {\n",
       "        vertical-align: middle;\n",
       "    }\n",
       "\n",
       "    .dataframe tbody tr th {\n",
       "        vertical-align: top;\n",
       "    }\n",
       "\n",
       "    .dataframe thead th {\n",
       "        text-align: right;\n",
       "    }\n",
       "</style>\n",
       "<table border=\"1\" class=\"dataframe\">\n",
       "  <thead>\n",
       "    <tr style=\"text-align: right;\">\n",
       "      <th></th>\n",
       "      <th>contribs</th>\n",
       "      <th>total_amt</th>\n",
       "      <th>elect_cycles</th>\n",
       "    </tr>\n",
       "  </thead>\n",
       "  <tbody>\n",
       "    <tr>\n",
       "      <td>0</td>\n",
       "      <td>20567</td>\n",
       "      <td>2174445937.00</td>\n",
       "      <td>[2000, 2002, 2004, 2006, 2008, 2010, 2012, 201...</td>\n",
       "    </tr>\n",
       "  </tbody>\n",
       "</table>\n",
       "</div>"
      ],
      "text/plain": [
       "   contribs      total_amt                                       elect_cycles\n",
       "0     20567  2174445937.00  [2000, 2002, 2004, 2006, 2008, 2010, 2012, 201..."
      ]
     },
     "execution_count": 27,
     "metadata": {},
     "output_type": "execute_result"
    }
   ],
   "source": [
    "%%sql\n",
    "select count(*)             as contribs,\n",
    "       sum(transaction_amt) as total_amt,\n",
    "       array_agg(distinct elect_cycle) as elect_cycles\n",
    "  from ctx_indiv_contrib"
   ]
  },
  {
   "cell_type": "markdown",
   "metadata": {},
   "source": [
    "### Create `ctx_donor_contrib` ###\n",
    "\n",
    "This is really the same as `ctx_indiv_contrib`, except that we are adding `donor_indiv_id` on top of the `indiv_contrib` columns so that queries using this context view are able to join to (and/or group by) the underlying Donor record (and not just the Individual associated with the contribution record)."
   ]
  },
  {
   "cell_type": "code",
   "execution_count": 28,
   "metadata": {},
   "outputs": [
    {
     "name": "stdout",
     "output_type": "stream",
     "text": [
      " * postgresql+psycopg2://crash@localhost/fecdb\n",
      "Done.\n"
     ]
    },
    {
     "data": {
      "text/html": [
       "<div>\n",
       "<style scoped>\n",
       "    .dataframe tbody tr th:only-of-type {\n",
       "        vertical-align: middle;\n",
       "    }\n",
       "\n",
       "    .dataframe tbody tr th {\n",
       "        vertical-align: top;\n",
       "    }\n",
       "\n",
       "    .dataframe thead th {\n",
       "        text-align: right;\n",
       "    }\n",
       "</style>\n",
       "<table border=\"1\" class=\"dataframe\">\n",
       "  <thead>\n",
       "    <tr style=\"text-align: right;\">\n",
       "      <th></th>\n",
       "    </tr>\n",
       "  </thead>\n",
       "  <tbody>\n",
       "  </tbody>\n",
       "</table>\n",
       "</div>"
      ],
      "text/plain": [
       "Empty DataFrame\n",
       "Columns: []\n",
       "Index: []"
      ]
     },
     "execution_count": 28,
     "metadata": {},
     "output_type": "execute_result"
    }
   ],
   "source": [
    "%%sql\n",
    "create or replace view ctx_donor_contrib as\n",
    "select ic.*,\n",
    "       ix.donor_indiv_id\n",
    "  from ctx_indiv ix\n",
    "  join indiv_contrib ic on ic.indiv_id = ix.id"
   ]
  },
  {
   "cell_type": "code",
   "execution_count": 29,
   "metadata": {},
   "outputs": [
    {
     "name": "stdout",
     "output_type": "stream",
     "text": [
      " * postgresql+psycopg2://crash@localhost/fecdb\n",
      "63 rows affected.\n"
     ]
    },
    {
     "data": {
      "text/html": [
       "<div>\n",
       "<style scoped>\n",
       "    .dataframe tbody tr th:only-of-type {\n",
       "        vertical-align: middle;\n",
       "    }\n",
       "\n",
       "    .dataframe tbody tr th {\n",
       "        vertical-align: top;\n",
       "    }\n",
       "\n",
       "    .dataframe thead th {\n",
       "        text-align: right;\n",
       "    }\n",
       "</style>\n",
       "<table border=\"1\" class=\"dataframe\">\n",
       "  <thead>\n",
       "    <tr style=\"text-align: right;\">\n",
       "      <th></th>\n",
       "      <th>donor_id</th>\n",
       "      <th>donor_name</th>\n",
       "      <th>contribs</th>\n",
       "      <th>total_amt</th>\n",
       "      <th>elect_cycles</th>\n",
       "    </tr>\n",
       "  </thead>\n",
       "  <tbody>\n",
       "    <tr>\n",
       "      <td>0</td>\n",
       "      <td>11612429</td>\n",
       "      <td>STEYER, THOMAS</td>\n",
       "      <td>288</td>\n",
       "      <td>259466083.00</td>\n",
       "      <td>[2000, 2002, 2004, 2006, 2008, 2010, 2012, 201...</td>\n",
       "    </tr>\n",
       "    <tr>\n",
       "      <td>1</td>\n",
       "      <td>70790</td>\n",
       "      <td>ADELSON, SHELDON</td>\n",
       "      <td>521</td>\n",
       "      <td>163010720.00</td>\n",
       "      <td>[2000, 2002, 2004, 2006, 2008, 2010, 2012, 201...</td>\n",
       "    </tr>\n",
       "    <tr>\n",
       "      <td>2</td>\n",
       "      <td>1076630</td>\n",
       "      <td>BLOOMBERG, MICHAEL</td>\n",
       "      <td>368</td>\n",
       "      <td>162000273.00</td>\n",
       "      <td>[2000, 2002, 2004, 2006, 2008, 2010, 2012, 201...</td>\n",
       "    </tr>\n",
       "    <tr>\n",
       "      <td>3</td>\n",
       "      <td>70692</td>\n",
       "      <td>ADELSON, MIRIAM</td>\n",
       "      <td>449</td>\n",
       "      <td>148007082.00</td>\n",
       "      <td>[2000, 2002, 2004, 2006, 2008, 2010, 2012, 201...</td>\n",
       "    </tr>\n",
       "    <tr>\n",
       "      <td>4</td>\n",
       "      <td>3535137</td>\n",
       "      <td>EYCHANER, FRED</td>\n",
       "      <td>602</td>\n",
       "      <td>80924450.00</td>\n",
       "      <td>[2000, 2002, 2004, 2006, 2008, 2010, 2012, 201...</td>\n",
       "    </tr>\n",
       "    <tr>\n",
       "      <td>...</td>\n",
       "      <td>...</td>\n",
       "      <td>...</td>\n",
       "      <td>...</td>\n",
       "      <td>...</td>\n",
       "      <td>...</td>\n",
       "    </tr>\n",
       "    <tr>\n",
       "      <td>58</td>\n",
       "      <td>5643646</td>\n",
       "      <td>HUMPHREYS, DAVID</td>\n",
       "      <td>253</td>\n",
       "      <td>10582540.00</td>\n",
       "      <td>[2000, 2002, 2004, 2006, 2008, 2010, 2012, 201...</td>\n",
       "    </tr>\n",
       "    <tr>\n",
       "      <td>59</td>\n",
       "      <td>21795</td>\n",
       "      <td>ABRAHAM, DANIEL</td>\n",
       "      <td>89</td>\n",
       "      <td>10379968.00</td>\n",
       "      <td>[2000, 2002, 2004, 2006, 2008, 2010, 2012, 201...</td>\n",
       "    </tr>\n",
       "    <tr>\n",
       "      <td>60</td>\n",
       "      <td>8054934</td>\n",
       "      <td>MELLON, TIM</td>\n",
       "      <td>101</td>\n",
       "      <td>10273200.00</td>\n",
       "      <td>[2010, 2012, 2014, 2016, 2018]</td>\n",
       "    </tr>\n",
       "    <tr>\n",
       "      <td>61</td>\n",
       "      <td>948855</td>\n",
       "      <td>BEZOS, JEFF</td>\n",
       "      <td>7</td>\n",
       "      <td>10159170.00</td>\n",
       "      <td>[2014, 2016, 2018]</td>\n",
       "    </tr>\n",
       "    <tr>\n",
       "      <td>62</td>\n",
       "      <td>11713463</td>\n",
       "      <td>STRYKER, PAT</td>\n",
       "      <td>319</td>\n",
       "      <td>10076400.00</td>\n",
       "      <td>[2002, 2004, 2006, 2008, 2010, 2012, 2014, 201...</td>\n",
       "    </tr>\n",
       "  </tbody>\n",
       "</table>\n",
       "<p>63 rows × 5 columns</p>\n",
       "</div>"
      ],
      "text/plain": [
       "    donor_id          donor_name  contribs     total_amt  \\\n",
       "0   11612429      STEYER, THOMAS       288  259466083.00   \n",
       "1      70790    ADELSON, SHELDON       521  163010720.00   \n",
       "2    1076630  BLOOMBERG, MICHAEL       368  162000273.00   \n",
       "3      70692     ADELSON, MIRIAM       449  148007082.00   \n",
       "4    3535137      EYCHANER, FRED       602   80924450.00   \n",
       "..       ...                 ...       ...           ...   \n",
       "58   5643646    HUMPHREYS, DAVID       253   10582540.00   \n",
       "59     21795     ABRAHAM, DANIEL        89   10379968.00   \n",
       "60   8054934         MELLON, TIM       101   10273200.00   \n",
       "61    948855         BEZOS, JEFF         7   10159170.00   \n",
       "62  11713463        STRYKER, PAT       319   10076400.00   \n",
       "\n",
       "                                         elect_cycles  \n",
       "0   [2000, 2002, 2004, 2006, 2008, 2010, 2012, 201...  \n",
       "1   [2000, 2002, 2004, 2006, 2008, 2010, 2012, 201...  \n",
       "2   [2000, 2002, 2004, 2006, 2008, 2010, 2012, 201...  \n",
       "3   [2000, 2002, 2004, 2006, 2008, 2010, 2012, 201...  \n",
       "4   [2000, 2002, 2004, 2006, 2008, 2010, 2012, 201...  \n",
       "..                                                ...  \n",
       "58  [2000, 2002, 2004, 2006, 2008, 2010, 2012, 201...  \n",
       "59  [2000, 2002, 2004, 2006, 2008, 2010, 2012, 201...  \n",
       "60                     [2010, 2012, 2014, 2016, 2018]  \n",
       "61                                 [2014, 2016, 2018]  \n",
       "62  [2002, 2004, 2006, 2008, 2010, 2012, 2014, 201...  \n",
       "\n",
       "[63 rows x 5 columns]"
      ]
     },
     "execution_count": 29,
     "metadata": {},
     "output_type": "execute_result"
    }
   ],
   "source": [
    "%%sql\n",
    "select d.id                 as donor_id,\n",
    "       d.name               as donor_name,\n",
    "       count(*)             as contribs,\n",
    "       sum(transaction_amt) as total_amt,\n",
    "       array_agg(distinct elect_cycle) as elect_cycles\n",
    "  from ctx_donor_contrib cx\n",
    "  join donor_indiv d on d.id = cx.donor_indiv_id\n",
    " group by 1, 2\n",
    " order by 4 desc, 3 desc"
   ]
  }
 ],
 "metadata": {
  "kernelspec": {
   "display_name": "Python 3",
   "language": "python",
   "name": "python3"
  },
  "language_info": {
   "codemirror_mode": {
    "name": "ipython",
    "version": 3
   },
   "file_extension": ".py",
   "mimetype": "text/x-python",
   "name": "python",
   "nbconvert_exporter": "python",
   "pygments_lexer": "ipython3",
   "version": "3.6.8"
  }
 },
 "nbformat": 4,
 "nbformat_minor": 2
}
